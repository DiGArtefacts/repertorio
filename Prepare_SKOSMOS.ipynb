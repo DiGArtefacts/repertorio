{
 "cells": [
  {
   "cell_type": "markdown",
   "id": "49040c6c-ef6e-488f-969c-697d73f0364e",
   "metadata": {},
   "source": [
    "# Prepare RDF for SKOSMOS"
   ]
  },
  {
   "cell_type": "markdown",
   "id": "ef7b282d-d1d7-4d01-b508-5754881ff01b",
   "metadata": {},
   "source": [
    "SKOSMOS has a simple, plain-SKOS [data model](https://github.com/NatLibFi/Skosmos/wiki/Data-Model). Our data model derives from this in two major ways that break SKOSMOS’ expectations:\n",
    "\n",
    "1. We use SKOS-XL as the lexicalization scheme, and\n",
    "2. we use the more specific sub-properties of `skos:broader` defined by skos-thes.\n",
    "\n",
    "We map these to plain SKOS before loading the dataset into SKOSMOS."
   ]
  },
  {
   "cell_type": "code",
   "execution_count": 1,
   "id": "dbc5e194-6f24-49c4-806a-376cc88caf10",
   "metadata": {},
   "outputs": [],
   "source": [
    "import rdflib\n",
    "from rdflib.namespace import SKOS, RDFS\n",
    "\n",
    "skosxl = rdflib.Namespace('http://www.w3.org/2008/05/skos-xl#')\n",
    "skos_thes = rdflib.Namespace('http://purl.org/iso25964/skos-thes#')"
   ]
  },
  {
   "cell_type": "code",
   "execution_count": 2,
   "id": "7c531b4b-cb8b-4a28-b750-57b198ece194",
   "metadata": {},
   "outputs": [
    {
     "data": {
      "text/plain": [
       "<Graph identifier=N467240c86bd14262af7a09b6fbdd9a6a (<class 'rdflib.graph.Graph'>)>"
      ]
     },
     "execution_count": 2,
     "metadata": {},
     "output_type": "execute_result"
    }
   ],
   "source": [
    "g = rdflib.Graph()\n",
    "g.parse('diga_terms_vocbench.ttl')"
   ]
  },
  {
   "cell_type": "markdown",
   "id": "7bbfdc8a-6b06-4c30-bbf5-5208ccbd13b8",
   "metadata": {},
   "source": [
    "## Broaders/Narrowers"
   ]
  },
  {
   "cell_type": "markdown",
   "id": "bbe69d96-c589-4cef-b483-507529b5fd77",
   "metadata": {},
   "source": [
    "We use `skos-thes:broaderGeneric` and `skos-thes:broaderPartitive`. SKOSMOS does not use these for building the hierarchy tree, so we have to make them known as subtypes of `skos:broader`. We also explicitly add the implicit inverse (narrower) properties."
   ]
  },
  {
   "cell_type": "code",
   "execution_count": 3,
   "id": "2e366825-d954-4c3d-90f0-e6812e71d1e2",
   "metadata": {},
   "outputs": [
    {
     "name": "stdout",
     "output_type": "stream",
     "text": [
      "https://w3id.org/diga/terms/100088298 https://w3id.org/diga/terms/2994146436\n",
      "https://w3id.org/diga/terms/1460785757 https://w3id.org/diga/terms/2994146436\n",
      "https://w3id.org/diga/terms/3163172208 https://w3id.org/diga/terms/2994146436\n"
     ]
    }
   ],
   "source": [
    "qres = g.query(\n",
    "    \"\"\"SELECT ?part ?parent\n",
    "       WHERE {\n",
    "          ?part skos-thes:broaderPartitive ?parent .\n",
    "       } LIMIT 3\"\"\")\n",
    "\n",
    "for part, parent in qres:\n",
    "    print(part, parent)"
   ]
  },
  {
   "cell_type": "markdown",
   "id": "63f0538d-72de-41b3-9269-d69ab2c5bf1f",
   "metadata": {},
   "source": [
    "Add sub-properties for skos-thes."
   ]
  },
  {
   "cell_type": "code",
   "execution_count": 4,
   "id": "676c322f-6634-4b98-8a1f-e6ebd5b571e9",
   "metadata": {},
   "outputs": [],
   "source": [
    "g.add((skos_thes.broaderPartitive, RDFS.subPropertyOf, SKOS.broader))\n",
    "g.add((skos_thes.broaderGeneric, RDFS.subPropertyOf, SKOS.broader))\n",
    "g.add((skos_thes.narrowerPartitive, RDFS.subPropertyOf, SKOS.narrower))\n",
    "g.add((skos_thes.narrowerGeneric, RDFS.subPropertyOf, SKOS.narrower))"
   ]
  },
  {
   "cell_type": "markdown",
   "id": "4f02bc17-a2f1-4a2c-9028-cced4f11362a",
   "metadata": {},
   "source": [
    "Add inverse relations."
   ]
  },
  {
   "cell_type": "code",
   "execution_count": 5,
   "id": "ef2d372c-dd74-416c-a8ce-5af7903a2dde",
   "metadata": {},
   "outputs": [],
   "source": [
    "g.update(\"\"\"\n",
    "INSERT { \n",
    "    ?parent skos-thes:narrowerPartitive ?part .\n",
    "}\n",
    "WHERE {\n",
    "    ?part skos-thes:broaderPartitive ?parent .\n",
    "}\n",
    "\"\"\")"
   ]
  },
  {
   "cell_type": "code",
   "execution_count": 6,
   "id": "2e2bc2ee-36b9-42be-b890-1fd0e22a5971",
   "metadata": {},
   "outputs": [],
   "source": [
    "g.update(\"\"\"\n",
    "INSERT { \n",
    "    ?parent skos-thes:narrowerGeneric ?part .\n",
    "}\n",
    "WHERE {\n",
    "    ?part skos-thes:broaderGeneric ?parent .\n",
    "}\n",
    "\"\"\")"
   ]
  },
  {
   "cell_type": "markdown",
   "id": "6e51168c-f526-4b77-8703-a38aefbfd592",
   "metadata": {},
   "source": [
    "We also have a few left-over plain `skos:broaders`. For the time being, we also add the reverse relations for these."
   ]
  },
  {
   "cell_type": "code",
   "execution_count": 7,
   "id": "c3dfc2a5-5e27-4d39-a356-b0089d64fcd9",
   "metadata": {},
   "outputs": [],
   "source": [
    "g.update(\n",
    "    \"\"\"INSERT { ?parent skos:narrower ?facet . }\n",
    "       WHERE {\n",
    "          ?facet skos:broader ?parent .\n",
    "       }\"\"\")"
   ]
  },
  {
   "cell_type": "markdown",
   "id": "a245b714-5b43-4016-9151-d30616a5776c",
   "metadata": {},
   "source": [
    "## Lexicalization"
   ]
  },
  {
   "cell_type": "markdown",
   "id": "69c42be4-2077-4b91-8776-42c611f248fb",
   "metadata": {},
   "source": [
    "We add plain skos labels based on the SKOS-XL properties."
   ]
  },
  {
   "cell_type": "code",
   "execution_count": 8,
   "id": "2d7d5d47-e91e-481b-bb58-0745cc9f1cd6",
   "metadata": {},
   "outputs": [
    {
     "name": "stdout",
     "output_type": "stream",
     "text": [
      "https://w3id.org/diga/terms/1000747715 volti in alto e in basso, a foglie lanceolate e boccioli di fiori\n",
      "https://w3id.org/diga/terms/1000747715 spreading upwards and downwards, with lanceolate leaves and blossoms\n",
      "https://w3id.org/diga/terms/100088298 orlo\n",
      "https://w3id.org/diga/terms/100088298 edge\n",
      "https://w3id.org/diga/terms/1001583333 semiarchetto laterale (dx./ sn.)\n",
      "https://w3id.org/diga/terms/1001583333 side small half arch (right/ left)\n",
      "https://w3id.org/diga/terms/1001756703 torus\n",
      "https://w3id.org/diga/terms/1001756703 toro\n",
      "https://w3id.org/diga/terms/100479688 piramide a gradini\n",
      "https://w3id.org/diga/terms/100479688 stepped pyramid\n"
     ]
    }
   ],
   "source": [
    "qres = g.query(\n",
    "    \"\"\"SELECT ?concept ?label\n",
    "       WHERE {\n",
    "           ?concept skosxl:prefLabel ?xlabel .\n",
    "           ?xlabel skosxl:literalForm ?label .\n",
    "       } LIMIT 10\"\"\")\n",
    "\n",
    "for c, l in qres:\n",
    "    print(c, l)"
   ]
  },
  {
   "cell_type": "code",
   "execution_count": 9,
   "id": "49c11aa6-8bb5-4e10-a265-1a4cf1eb7e5a",
   "metadata": {},
   "outputs": [],
   "source": [
    "g.update(\n",
    "    \"\"\"INSERT { ?concept skos:prefLabel ?label . }\n",
    "       WHERE {\n",
    "           ?concept skosxl:prefLabel ?xlabel .\n",
    "           ?xlabel skosxl:literalForm ?label .\n",
    "       }\"\"\")"
   ]
  },
  {
   "cell_type": "code",
   "execution_count": 10,
   "id": "0ae7c284-add3-4354-b962-ea3cfd36e709",
   "metadata": {},
   "outputs": [],
   "source": [
    "g.update(\n",
    "    \"\"\"INSERT { ?concept skos:altLabel ?label . }\n",
    "       WHERE {\n",
    "           ?concept skosxl:altLabel ?xlabel .\n",
    "           ?xlabel skosxl:literalForm ?label .\n",
    "       }\"\"\")"
   ]
  },
  {
   "cell_type": "markdown",
   "id": "a99abdc0-6972-47c6-ad3a-f0301cfcf36f",
   "metadata": {},
   "source": [
    "## Editorial notes\n",
    "\n",
    "We remove the editorial notes that are not meant for public display."
   ]
  },
  {
   "cell_type": "code",
   "execution_count": 11,
   "id": "b1f20f96-5bd0-4775-bbe6-29c3643a4b6b",
   "metadata": {},
   "outputs": [],
   "source": [
    "g.update(\n",
    "    \"\"\"DELETE { ?concept skos:editorialNote ?note }\n",
    "    WHERE {\n",
    "        ?concept skos:editorialNote ?note .\n",
    "        FILTER ( STRSTARTS ( ?note, \"Figure label\" ) )\n",
    "    }\"\"\")"
   ]
  },
  {
   "cell_type": "markdown",
   "id": "98242a57-6c15-4b77-a7cd-fdc866767f8f",
   "metadata": {},
   "source": [
    "## Save"
   ]
  },
  {
   "cell_type": "code",
   "execution_count": 12,
   "id": "47f73311-ffa1-46c2-8cf4-aef3c3a7d725",
   "metadata": {},
   "outputs": [],
   "source": [
    "with open('diga_terms_skosmos.ttl', 'wb') as outfile:\n",
    "    g.serialize(destination=outfile, format='turtle')"
   ]
  }
 ],
 "metadata": {
  "kernelspec": {
   "display_name": "Python 3 (ipykernel)",
   "language": "python",
   "name": "python3"
  },
  "language_info": {
   "codemirror_mode": {
    "name": "ipython",
    "version": 3
   },
   "file_extension": ".py",
   "mimetype": "text/x-python",
   "name": "python",
   "nbconvert_exporter": "python",
   "pygments_lexer": "ipython3",
   "version": "3.8.10"
  }
 },
 "nbformat": 4,
 "nbformat_minor": 5
}
