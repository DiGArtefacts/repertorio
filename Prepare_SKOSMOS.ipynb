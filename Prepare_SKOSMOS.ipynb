{
 "cells": [
  {
   "cell_type": "markdown",
   "id": "49040c6c-ef6e-488f-969c-697d73f0364e",
   "metadata": {},
   "source": [
    "# Prepare RDF for SKOSMOS"
   ]
  },
  {
   "cell_type": "markdown",
   "id": "ef7b282d-d1d7-4d01-b508-5754881ff01b",
   "metadata": {},
   "source": [
    "SKOSMOS has a simple, plain-SKOS [data model](https://github.com/NatLibFi/Skosmos/wiki/Data-Model). Our data model derives from this in two major ways that break SKOSMOS’ expectations:\n",
    "\n",
    "1. We use SKOS-XL as the lexicalization scheme, and\n",
    "2. we use the more specific sub-properties of `skos:broader` defined by skos-thes.\n",
    "\n",
    "We map these to plain SKOS before loading the dataset into SKOSMOS."
   ]
  },
  {
   "cell_type": "code",
   "execution_count": 1,
   "id": "dbc5e194-6f24-49c4-806a-376cc88caf10",
   "metadata": {},
   "outputs": [],
   "source": [
    "import rdflib\n",
    "from rdflib.namespace import SKOS\n",
    "\n",
    "skosxl = rdflib.Namespace('http://www.w3.org/2008/05/skos-xl#')\n",
    "skos_thes = rdflib.Namespace('http://purl.org/iso25964/skos-thes#')"
   ]
  },
  {
   "cell_type": "code",
   "execution_count": 2,
   "id": "7c531b4b-cb8b-4a28-b750-57b198ece194",
   "metadata": {},
   "outputs": [
    {
     "data": {
      "text/plain": [
       "<Graph identifier=N3843b06476f94ac6b32d6ff869360e18 (<class 'rdflib.graph.Graph'>)>"
      ]
     },
     "execution_count": 2,
     "metadata": {},
     "output_type": "execute_result"
    }
   ],
   "source": [
    "g = rdflib.Graph()\n",
    "g.parse('diga_terms_vocbench.ttl')"
   ]
  },
  {
   "cell_type": "markdown",
   "id": "7bbfdc8a-6b06-4c30-bbf5-5208ccbd13b8",
   "metadata": {},
   "source": [
    "## Broaders"
   ]
  },
  {
   "cell_type": "markdown",
   "id": "bbe69d96-c589-4cef-b483-507529b5fd77",
   "metadata": {},
   "source": [
    "We simply map the more specific broader properties onto `skos:broader`."
   ]
  },
  {
   "cell_type": "code",
   "execution_count": 3,
   "id": "bca6df55-70c9-4c2d-8dca-3d4607200f1f",
   "metadata": {},
   "outputs": [
    {
     "name": "stdout",
     "output_type": "stream",
     "text": [
      "https://w3id.org/diga/terms/100088298 https://w3id.org/diga/terms/2994146436\n",
      "https://w3id.org/diga/terms/1460785757 https://w3id.org/diga/terms/2994146436\n",
      "https://w3id.org/diga/terms/3163172208 https://w3id.org/diga/terms/2994146436\n",
      "https://w3id.org/diga/terms/1001583333 https://w3id.org/diga/terms/3410718195\n",
      "https://w3id.org/diga/terms/1226134970 https://w3id.org/diga/terms/3410718195\n",
      "https://w3id.org/diga/terms/1821530743 https://w3id.org/diga/terms/3410718195\n",
      "https://w3id.org/diga/terms/3056398972 https://w3id.org/diga/terms/3410718195\n",
      "https://w3id.org/diga/terms/4196734874 https://w3id.org/diga/terms/3410718195\n",
      "https://w3id.org/diga/terms/596669033 https://w3id.org/diga/terms/3410718195\n",
      "https://w3id.org/diga/terms/938843014 https://w3id.org/diga/terms/3410718195\n"
     ]
    }
   ],
   "source": [
    "qres = g.query(\n",
    "    \"\"\"SELECT ?part ?parent\n",
    "       WHERE {\n",
    "          ?part skos-thes:broaderPartitive ?parent .\n",
    "       } LIMIT 10\"\"\")\n",
    "\n",
    "for part, parent in qres:\n",
    "    print(part, parent)"
   ]
  },
  {
   "cell_type": "code",
   "execution_count": 4,
   "id": "b8e7c317-cb99-4f13-81da-90ffa1bfac30",
   "metadata": {},
   "outputs": [],
   "source": [
    "g.update(\n",
    "    \"\"\"INSERT { ?part skos:broader ?parent . }\n",
    "       WHERE {\n",
    "          ?part skos-thes:broaderPartitive ?parent .\n",
    "       }\"\"\")"
   ]
  },
  {
   "cell_type": "code",
   "execution_count": 5,
   "id": "289c09c1-7c70-4c61-b33a-5550f6b86ac6",
   "metadata": {},
   "outputs": [],
   "source": [
    "g.update(\n",
    "    \"\"\"INSERT { ?facet skos:broader ?parent . }\n",
    "       WHERE {\n",
    "          ?facet skos-thes:broaderGeneric ?parent .\n",
    "       }\"\"\")"
   ]
  },
  {
   "cell_type": "markdown",
   "id": "a245b714-5b43-4016-9151-d30616a5776c",
   "metadata": {},
   "source": [
    "## Lexicalization"
   ]
  },
  {
   "cell_type": "markdown",
   "id": "69c42be4-2077-4b91-8776-42c611f248fb",
   "metadata": {},
   "source": [
    "We add plain skos labels based on the SKOS-XL properties."
   ]
  },
  {
   "cell_type": "code",
   "execution_count": 6,
   "id": "2d7d5d47-e91e-481b-bb58-0745cc9f1cd6",
   "metadata": {},
   "outputs": [
    {
     "name": "stdout",
     "output_type": "stream",
     "text": [
      "https://w3id.org/diga/terms/1000747715 volti in alto e in basso, a foglie lanceolate e boccioli di fiori\n",
      "https://w3id.org/diga/terms/1000747715 spreading upwards and downwards, with lanceolate leaves and blossoms\n",
      "https://w3id.org/diga/terms/100088298 orlo\n",
      "https://w3id.org/diga/terms/100088298 edge\n",
      "https://w3id.org/diga/terms/1001583333 semiarchetto laterale (dx./ sn.)\n",
      "https://w3id.org/diga/terms/1001583333 side small half arch (right/ left)\n",
      "https://w3id.org/diga/terms/1001756703 torus\n",
      "https://w3id.org/diga/terms/1001756703 toro\n",
      "https://w3id.org/diga/terms/100479688 piramide a gradini\n",
      "https://w3id.org/diga/terms/100479688 stepped pyramid\n"
     ]
    }
   ],
   "source": [
    "qres = g.query(\n",
    "    \"\"\"SELECT ?concept ?label\n",
    "       WHERE {\n",
    "           ?concept skosxl:prefLabel ?xlabel .\n",
    "           ?xlabel skosxl:literalForm ?label .\n",
    "       } LIMIT 10\"\"\")\n",
    "\n",
    "for c, l in qres:\n",
    "    print(c, l)"
   ]
  },
  {
   "cell_type": "code",
   "execution_count": 7,
   "id": "49c11aa6-8bb5-4e10-a265-1a4cf1eb7e5a",
   "metadata": {},
   "outputs": [],
   "source": [
    "g.update(\n",
    "    \"\"\"INSERT { ?concept skos:prefLabel ?label . }\n",
    "       WHERE {\n",
    "           ?concept skosxl:prefLabel ?xlabel .\n",
    "           ?xlabel skosxl:literalForm ?label .\n",
    "       }\"\"\")"
   ]
  },
  {
   "cell_type": "code",
   "execution_count": 8,
   "id": "0ae7c284-add3-4354-b962-ea3cfd36e709",
   "metadata": {},
   "outputs": [],
   "source": [
    "g.update(\n",
    "    \"\"\"INSERT { ?concept skos:altLabel ?label . }\n",
    "       WHERE {\n",
    "           ?concept skosxl:altLabel ?xlabel .\n",
    "           ?xlabel skosxl:literalForm ?label .\n",
    "       }\"\"\")"
   ]
  },
  {
   "cell_type": "markdown",
   "id": "98242a57-6c15-4b77-a7cd-fdc866767f8f",
   "metadata": {},
   "source": [
    "## Save"
   ]
  },
  {
   "cell_type": "code",
   "execution_count": 9,
   "id": "47f73311-ffa1-46c2-8cf4-aef3c3a7d725",
   "metadata": {},
   "outputs": [],
   "source": [
    "with open('diga_terms_skosmos.ttl', 'wb') as outfile:\n",
    "    g.serialize(destination=outfile, format='turtle')"
   ]
  }
 ],
 "metadata": {
  "kernelspec": {
   "display_name": "Python 3 (ipykernel)",
   "language": "python",
   "name": "python3"
  },
  "language_info": {
   "codemirror_mode": {
    "name": "ipython",
    "version": 3
   },
   "file_extension": ".py",
   "mimetype": "text/x-python",
   "name": "python",
   "nbconvert_exporter": "python",
   "pygments_lexer": "ipython3",
   "version": "3.8.10"
  }
 },
 "nbformat": 4,
 "nbformat_minor": 5
}
