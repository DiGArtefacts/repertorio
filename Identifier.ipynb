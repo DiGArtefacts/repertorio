{
 "cells": [
  {
   "cell_type": "markdown",
   "id": "4ea2a39b-023f-4299-8b2d-72b4fcedeed4",
   "metadata": {},
   "source": [
    "# Fix automatic identifiers from VocBench"
   ]
  },
  {
   "cell_type": "markdown",
   "id": "36c04652-bcae-48ab-95b4-c5bc0414c508",
   "metadata": {},
   "source": [
    "First, we can get new concepts with auto-generated IDs through SPARQL:\n",
    "\n",
    "```sparql\n",
    "SELECT ?concept ?it_str ?en_str WHERE {\n",
    "    ?concept a skos:Concept .\n",
    "    ?concept skosxl:prefLabel ?label_it .\n",
    "    ?label_it skosxl:literalForm ?it .\n",
    "    ?concept skosxl:prefLabel ?label_en .\n",
    "    ?label_en skosxl:literalForm ?en .\n",
    "    BIND ( STR(?it) as ?it_str)\n",
    "    BIND ( STR(?en) as ?en_str)\n",
    "    FILTER (\n",
    "        langMatches(lang(?it), \"it\")\n",
    "        && langMatches(lang(?en), \"en\")\n",
    "        && NOT EXISTS {\n",
    "        \t?concept dc:identifier ?id .\n",
    "        }\n",
    "    )\n",
    "}\n",
    "```"
   ]
  },
  {
   "cell_type": "markdown",
   "id": "0e87f4ab-af67-4ed8-8bcc-d1477fc2cc58",
   "metadata": {},
   "source": [
    "We save that as a CSV and load it."
   ]
  },
  {
   "cell_type": "code",
   "execution_count": 1,
   "id": "3160f4ba-0761-4fd0-a2ee-a8ce17ee27dd",
   "metadata": {},
   "outputs": [],
   "source": [
    "import pandas as pd"
   ]
  },
  {
   "cell_type": "code",
   "execution_count": 2,
   "id": "1de6bbac-9eaa-44d5-83dd-c9019588404e",
   "metadata": {},
   "outputs": [
    {
     "data": {
      "text/html": [
       "<div>\n",
       "<style scoped>\n",
       "    .dataframe tbody tr th:only-of-type {\n",
       "        vertical-align: middle;\n",
       "    }\n",
       "\n",
       "    .dataframe tbody tr th {\n",
       "        vertical-align: top;\n",
       "    }\n",
       "\n",
       "    .dataframe thead th {\n",
       "        text-align: right;\n",
       "    }\n",
       "</style>\n",
       "<table border=\"1\" class=\"dataframe\">\n",
       "  <thead>\n",
       "    <tr style=\"text-align: right;\">\n",
       "      <th></th>\n",
       "      <th>concept</th>\n",
       "      <th>it_str</th>\n",
       "      <th>en_str</th>\n",
       "    </tr>\n",
       "  </thead>\n",
       "  <tbody>\n",
       "    <tr>\n",
       "      <th>0</th>\n",
       "      <td>https://w3id.org/diga/terms/c_ab40f3d2</td>\n",
       "      <td>connessure labiali</td>\n",
       "      <td>lip dimples</td>\n",
       "    </tr>\n",
       "    <tr>\n",
       "      <th>1</th>\n",
       "      <td>https://w3id.org/diga/terms/c_8a2a0463</td>\n",
       "      <td>vulva</td>\n",
       "      <td>vulva</td>\n",
       "    </tr>\n",
       "    <tr>\n",
       "      <th>2</th>\n",
       "      <td>https://w3id.org/diga/terms/c_53d7423a</td>\n",
       "      <td>tridente</td>\n",
       "      <td>trident</td>\n",
       "    </tr>\n",
       "    <tr>\n",
       "      <th>3</th>\n",
       "      <td>https://w3id.org/diga/terms/c_cff8466e</td>\n",
       "      <td>colonna e pilastro, semicolonna e parasta</td>\n",
       "      <td>column and pillar, semi-column and pilaster</td>\n",
       "    </tr>\n",
       "    <tr>\n",
       "      <th>4</th>\n",
       "      <td>https://w3id.org/diga/terms/c_4a243ddb</td>\n",
       "      <td>ūṣṇīṣa separata</td>\n",
       "      <td>separated ūṣṇīṣa</td>\n",
       "    </tr>\n",
       "  </tbody>\n",
       "</table>\n",
       "</div>"
      ],
      "text/plain": [
       "                                  concept  \\\n",
       "0  https://w3id.org/diga/terms/c_ab40f3d2   \n",
       "1  https://w3id.org/diga/terms/c_8a2a0463   \n",
       "2  https://w3id.org/diga/terms/c_53d7423a   \n",
       "3  https://w3id.org/diga/terms/c_cff8466e   \n",
       "4  https://w3id.org/diga/terms/c_4a243ddb   \n",
       "\n",
       "                                      it_str  \\\n",
       "0                         connessure labiali   \n",
       "1                                      vulva   \n",
       "2                                   tridente   \n",
       "3  colonna e pilastro, semicolonna e parasta   \n",
       "4                            ūṣṇīṣa separata   \n",
       "\n",
       "                                        en_str  \n",
       "0                                  lip dimples  \n",
       "1                                        vulva  \n",
       "2                                      trident  \n",
       "3  column and pillar, semi-column and pilaster  \n",
       "4                             separated ūṣṇīṣa  "
      ]
     },
     "execution_count": 2,
     "metadata": {},
     "output_type": "execute_result"
    }
   ],
   "source": [
    "data = pd.read_csv('no_identifier.csv')\n",
    "data.head()"
   ]
  },
  {
   "cell_type": "code",
   "execution_count": 3,
   "id": "b8a71aa1-8339-4427-a427-8e0abbd57aaf",
   "metadata": {},
   "outputs": [
    {
     "data": {
      "text/plain": [
       "'2443743546'"
      ]
     },
     "execution_count": 3,
     "metadata": {},
     "output_type": "execute_result"
    }
   ],
   "source": [
    "import hashlib\n",
    "\n",
    "def generate_id(label):\n",
    "    h = hashlib.sha1(label.encode('utf-8')).hexdigest()\n",
    "    h_short = h[0:8]\n",
    "    id_int = int(h_short, 16)\n",
    "    return str(id_int)\n",
    "\n",
    "generate_id('DiGA')"
   ]
  },
  {
   "cell_type": "code",
   "execution_count": 4,
   "id": "77951ec7-871c-4baa-bc0b-0131e7dd4bed",
   "metadata": {},
   "outputs": [
    {
     "data": {
      "text/html": [
       "<div>\n",
       "<style scoped>\n",
       "    .dataframe tbody tr th:only-of-type {\n",
       "        vertical-align: middle;\n",
       "    }\n",
       "\n",
       "    .dataframe tbody tr th {\n",
       "        vertical-align: top;\n",
       "    }\n",
       "\n",
       "    .dataframe thead th {\n",
       "        text-align: right;\n",
       "    }\n",
       "</style>\n",
       "<table border=\"1\" class=\"dataframe\">\n",
       "  <thead>\n",
       "    <tr style=\"text-align: right;\">\n",
       "      <th></th>\n",
       "      <th>concept</th>\n",
       "      <th>it_str</th>\n",
       "      <th>en_str</th>\n",
       "      <th>id</th>\n",
       "    </tr>\n",
       "  </thead>\n",
       "  <tbody>\n",
       "    <tr>\n",
       "      <th>0</th>\n",
       "      <td>https://w3id.org/diga/terms/c_ab40f3d2</td>\n",
       "      <td>connessure labiali</td>\n",
       "      <td>lip dimples</td>\n",
       "      <td>648615685</td>\n",
       "    </tr>\n",
       "    <tr>\n",
       "      <th>1</th>\n",
       "      <td>https://w3id.org/diga/terms/c_8a2a0463</td>\n",
       "      <td>vulva</td>\n",
       "      <td>vulva</td>\n",
       "      <td>524880040</td>\n",
       "    </tr>\n",
       "    <tr>\n",
       "      <th>2</th>\n",
       "      <td>https://w3id.org/diga/terms/c_53d7423a</td>\n",
       "      <td>tridente</td>\n",
       "      <td>trident</td>\n",
       "      <td>1775892328</td>\n",
       "    </tr>\n",
       "    <tr>\n",
       "      <th>3</th>\n",
       "      <td>https://w3id.org/diga/terms/c_cff8466e</td>\n",
       "      <td>colonna e pilastro, semicolonna e parasta</td>\n",
       "      <td>column and pillar, semi-column and pilaster</td>\n",
       "      <td>292026662</td>\n",
       "    </tr>\n",
       "    <tr>\n",
       "      <th>4</th>\n",
       "      <td>https://w3id.org/diga/terms/c_4a243ddb</td>\n",
       "      <td>ūṣṇīṣa separata</td>\n",
       "      <td>separated ūṣṇīṣa</td>\n",
       "      <td>2529761007</td>\n",
       "    </tr>\n",
       "  </tbody>\n",
       "</table>\n",
       "</div>"
      ],
      "text/plain": [
       "                                  concept  \\\n",
       "0  https://w3id.org/diga/terms/c_ab40f3d2   \n",
       "1  https://w3id.org/diga/terms/c_8a2a0463   \n",
       "2  https://w3id.org/diga/terms/c_53d7423a   \n",
       "3  https://w3id.org/diga/terms/c_cff8466e   \n",
       "4  https://w3id.org/diga/terms/c_4a243ddb   \n",
       "\n",
       "                                      it_str  \\\n",
       "0                         connessure labiali   \n",
       "1                                      vulva   \n",
       "2                                   tridente   \n",
       "3  colonna e pilastro, semicolonna e parasta   \n",
       "4                            ūṣṇīṣa separata   \n",
       "\n",
       "                                        en_str          id  \n",
       "0                                  lip dimples   648615685  \n",
       "1                                        vulva   524880040  \n",
       "2                                      trident  1775892328  \n",
       "3  column and pillar, semi-column and pilaster   292026662  \n",
       "4                             separated ūṣṇīṣa  2529761007  "
      ]
     },
     "execution_count": 4,
     "metadata": {},
     "output_type": "execute_result"
    }
   ],
   "source": [
    "data['id'] = data.apply(lambda row: generate_id(f'{row[\"it_str\"]} | {row[\"en_str\"]}'), axis=1)\n",
    "data.head()"
   ]
  },
  {
   "cell_type": "markdown",
   "id": "b4dc1371-ad3a-4baa-9ef0-e5bc782fbd2b",
   "metadata": {},
   "source": [
    "Check we don’t have clashes with existing identifiers."
   ]
  },
  {
   "cell_type": "code",
   "execution_count": 5,
   "id": "9bced8ef-6b4b-496b-ae78-3dad28bd78c7",
   "metadata": {},
   "outputs": [],
   "source": [
    "import rdflib\n",
    "\n",
    "g = rdflib.Graph()\n",
    "g.parse('diga_terms_vocbench.ttl')\n",
    "\n",
    "diga_terms = rdflib.Namespace('https://w3id.org/diga/terms/')\n",
    "g.bind('diga_terms', diga_terms)"
   ]
  },
  {
   "cell_type": "markdown",
   "id": "c3d930f6-4728-420c-a0c5-ae381e902490",
   "metadata": {},
   "source": [
    "Now we can check that a given identifier is not yet used. The example is know to exist, just as a check:"
   ]
  },
  {
   "cell_type": "code",
   "execution_count": 6,
   "id": "80271e18-7f63-4432-b815-482767138d2c",
   "metadata": {},
   "outputs": [
    {
     "data": {
      "text/plain": [
       "True"
      ]
     },
     "execution_count": 6,
     "metadata": {},
     "output_type": "execute_result"
    }
   ],
   "source": [
    "(diga_terms['2838159259'], None, None) in g"
   ]
  },
  {
   "cell_type": "code",
   "execution_count": 7,
   "id": "1e811592-30cd-430d-ad30-411661aae648",
   "metadata": {},
   "outputs": [],
   "source": [
    "for id_ in data['id']:\n",
    "    if (diga_terms[id_], None, None) in g:\n",
    "        print(f'ID {id_} already in use!')"
   ]
  },
  {
   "cell_type": "markdown",
   "id": "c358487f-a730-4856-9a95-829aac2c5e18",
   "metadata": {},
   "source": [
    "Okay, we’re save, so save the file."
   ]
  },
  {
   "cell_type": "code",
   "execution_count": 8,
   "id": "56c432df-a8b0-4936-96d5-4767b3a40001",
   "metadata": {},
   "outputs": [],
   "source": [
    "data.to_csv('new_identifiers.csv')"
   ]
  }
 ],
 "metadata": {
  "kernelspec": {
   "display_name": "Python 3 (ipykernel)",
   "language": "python",
   "name": "python3"
  },
  "language_info": {
   "codemirror_mode": {
    "name": "ipython",
    "version": 3
   },
   "file_extension": ".py",
   "mimetype": "text/x-python",
   "name": "python",
   "nbconvert_exporter": "python",
   "pygments_lexer": "ipython3",
   "version": "3.8.10"
  }
 },
 "nbformat": 4,
 "nbformat_minor": 5
}
