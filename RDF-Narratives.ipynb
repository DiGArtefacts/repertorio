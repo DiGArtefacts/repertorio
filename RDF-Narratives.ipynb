{
 "cells": [
  {
   "cell_type": "code",
   "execution_count": 1,
   "id": "1b790c1a-e838-4297-86e2-45f5d240db5a",
   "metadata": {},
   "outputs": [],
   "source": [
    "import pickle\n",
    "import hashlib\n",
    "import re\n",
    "import csv\n",
    "from pathlib import Path\n",
    "\n",
    "import rdflib"
   ]
  },
  {
   "cell_type": "markdown",
   "id": "0f945cac-d5a6-4144-83f4-6d89061033f0",
   "metadata": {},
   "source": [
    "First, we import some default namespaces from `rdflib` and define additional ones. For DiGA, we define a provisional namespace under w3id.org, but we have to revise this eventially."
   ]
  },
  {
   "cell_type": "code",
   "execution_count": 2,
   "id": "c8604ae6-6d02-4304-9926-1b3a07029cff",
   "metadata": {},
   "outputs": [],
   "source": [
    "from rdflib.namespace import RDF, DC, DCTERMS, SKOS, FOAF\n",
    "skosxl = rdflib.Namespace('http://www.w3.org/2008/05/skos-xl#')\n",
    "skos_thes = rdflib.Namespace('http://purl.org/iso25964/skos-thes#')\n",
    "bibo = rdflib.Namespace('http://purl.org/ontology/bibo/')\n",
    "\n",
    "diga_terms = rdflib.Namespace('https://w3id.org/diga/terms/')\n",
    "diga_source = rdflib.Namespace('https://w3id.org/diga/source/')"
   ]
  },
  {
   "cell_type": "markdown",
   "id": "944601e7-2101-4221-8cef-2eb85ea74b4d",
   "metadata": {},
   "source": [
    "We set up our graph and bind a few namespaces for nicer serialization."
   ]
  },
  {
   "cell_type": "markdown",
   "id": "a0461b9c-5180-4e05-bc3a-9d3b3a95ea09",
   "metadata": {},
   "source": [
    "Now we create a new graph for the actual vocabulary."
   ]
  },
  {
   "cell_type": "code",
   "execution_count": 3,
   "id": "03ae8da9-e700-4a27-9716-cbb75f59d5b2",
   "metadata": {},
   "outputs": [],
   "source": [
    "g = rdflib.Graph()\n",
    "g.bind('dc', DC)\n",
    "g.bind('dct', DCTERMS)\n",
    "g.bind('foaf', FOAF)\n",
    "g.bind('skos', SKOS)\n",
    "g.bind('skosxl', skosxl)\n",
    "g.bind('skos-thes', skos_thes)\n",
    "g.bind('diga_terms', diga_terms)\n",
    "g.bind('diga_source', diga_source)"
   ]
  },
  {
   "cell_type": "markdown",
   "id": "ded6fcee-ff8d-48ae-8a55-e1e16da24083",
   "metadata": {},
   "source": [
    "Our vocabulary is also a `skos:ConceptScheme`."
   ]
  },
  {
   "cell_type": "code",
   "execution_count": 4,
   "id": "ef5cce73-38cb-40a7-8eaa-e47c8311f453",
   "metadata": {},
   "outputs": [
    {
     "data": {
      "text/plain": [
       "<Graph identifier=Nc678390f405e443c88dc2557ec198488 (<class 'rdflib.graph.Graph'>)>"
      ]
     },
     "execution_count": 4,
     "metadata": {},
     "output_type": "execute_result"
    }
   ],
   "source": [
    "diga_terms_cs = rdflib.URIRef('https://w3id.org/diga/terms')\n",
    "g.add((diga_terms_cs, RDF.type, SKOS.ConceptScheme))"
   ]
  },
  {
   "cell_type": "markdown",
   "id": "4febf97a-bac2-4311-a1f8-b73dfdd43b43",
   "metadata": {},
   "source": [
    "We need to assign URIs to each concept. Small, closed vocabularies like DC use human-readable URIs that express the meaning, like `dc:title`. Other, large ones like AAT use numerical IDs, e.g. `aat:300423650` (double-pointed pick). AAT uses its database IDs for this. Since we don’t have IDs, we need to generate ones. Instead of just generating random IDs, we generate an ID from the label in the tree. Compared to completely random identifiers, this allows for a certain reproducibility (multiple runs will produce the same IDs). We convert hex codes to decimals simply because they look less arcane."
   ]
  },
  {
   "cell_type": "code",
   "execution_count": 5,
   "id": "11cf7280-5f40-4d4c-976d-4d74e49083f7",
   "metadata": {},
   "outputs": [
    {
     "data": {
      "text/plain": [
       "'2443743546'"
      ]
     },
     "execution_count": 5,
     "metadata": {},
     "output_type": "execute_result"
    }
   ],
   "source": [
    "def generate_id(label):\n",
    "    h = hashlib.sha1(label.encode('utf-8')).hexdigest()\n",
    "    h_short = h[0:8]\n",
    "    id_int = int(h_short, 16)\n",
    "    return str(id_int)\n",
    "\n",
    "generate_id('DiGA')"
   ]
  },
  {
   "cell_type": "code",
   "execution_count": 6,
   "id": "5011bc42-1f44-4130-a030-a5f7aa17ae75",
   "metadata": {},
   "outputs": [
    {
     "data": {
      "text/plain": [
       "<Graph identifier=Nc678390f405e443c88dc2557ec198488 (<class 'rdflib.graph.Graph'>)>"
      ]
     },
     "execution_count": 6,
     "metadata": {},
     "output_type": "execute_result"
    }
   ],
   "source": [
    "top_concept_label = 'narratives'\n",
    "\n",
    "# Generate IDs for concept and label\n",
    "ident = generate_id(f\"(0) {top_concept_label}\")\n",
    "ident_en = generate_id(f\"(0) {top_concept_label} (en)\")\n",
    "top_concept = diga_terms[ident]\n",
    "top_concept_en = diga_terms[ident_en]\n",
    "\n",
    "# Add the concept\n",
    "g.add((top_concept, RDF.type, SKOS.Concept))\n",
    "g.add((top_concept, DC.identifier, rdflib.Literal(ident)))\n",
    "g.add((top_concept, SKOS.topConceptOf, diga_terms_cs))\n",
    "\n",
    "# Add the label\n",
    "g.add((top_concept_en, RDF.type, skosxl.Label))\n",
    "g.add((top_concept_en, skosxl.literalForm, rdflib.Literal(top_concept_label, lang='en')))\n",
    "\n",
    "g.add((top_concept, skosxl.prefLabel, top_concept_en))"
   ]
  },
  {
   "cell_type": "code",
   "execution_count": 7,
   "id": "856889bc-5a08-43e7-bfd1-e7de6784ca52",
   "metadata": {},
   "outputs": [
    {
     "data": {
      "text/plain": [
       "{'Level': '1',\n",
       " 'CONCEPT SOURCE': '',\n",
       " 'PREF LABEL': 'Previous Births',\n",
       " 'PREF LABEL SOURCE': '',\n",
       " '(sub-episodes)': '',\n",
       " 'ALT LABEL 1': 'Jātakas, Past lives, previous birth stories',\n",
       " 'ALT LABEL 1 SOURCE': '',\n",
       " 'ALT LABEL 2': '',\n",
       " 'ALT LABEL 2 SOURCE': '',\n",
       " 'ALT LABEL 3': '',\n",
       " 'ALT LABEL 3 SOURCE': '',\n",
       " 'NOTES': 'ALTERNATIVE LABELS: NOTE',\n",
       " '': ''}"
      ]
     },
     "execution_count": 7,
     "metadata": {},
     "output_type": "execute_result"
    }
   ],
   "source": [
    "with Path('Identificators_Narratives.csv').open(newline='') as csvfile:\n",
    "    reader = csv.DictReader(csvfile)\n",
    "    for i, row in enumerate(reader, start=1):\n",
    "        break\n",
    "\n",
    "row"
   ]
  },
  {
   "cell_type": "markdown",
   "id": "b908bf92-5d6f-43b1-ab32-335304511645",
   "metadata": {},
   "source": [
    "As a demonstration, we pick an example node in the tree and show the resulting RDF representation."
   ]
  },
  {
   "cell_type": "markdown",
   "id": "ad2bb500-8d73-462a-9cce-5893af7f290d",
   "metadata": {},
   "source": [
    "When calculating an identifier for an entry, the label itself is not enough, because they are not unique. We take row number from the OCR into account."
   ]
  },
  {
   "cell_type": "code",
   "execution_count": 8,
   "id": "440a354c-dbbb-41b9-bbe2-3844f421265b",
   "metadata": {},
   "outputs": [
    {
     "name": "stdout",
     "output_type": "stream",
     "text": [
      "@prefix dc: <http://purl.org/dc/elements/1.1/> .\n",
      "@prefix diga_terms: <https://w3id.org/diga/terms/> .\n",
      "@prefix skos: <http://www.w3.org/2004/02/skos/core#> .\n",
      "@prefix skos-thes: <http://purl.org/iso25964/skos-thes#> .\n",
      "@prefix skosxl: <http://www.w3.org/2008/05/skos-xl#> .\n",
      "\n",
      "diga_terms:1115524268 a skos:Concept ;\n",
      "    dc:identifier \"1115524268\" ;\n",
      "    skos-thes:broaderGeneric diga_terms:2550564563 ;\n",
      "    skos:inScheme <https://w3id.org/diga/terms> ;\n",
      "    skosxl:altLabel diga_terms:1689164348,\n",
      "        diga_terms:297365002,\n",
      "        diga_terms:3397843173 ;\n",
      "    skosxl:prefLabel diga_terms:467616027 .\n",
      "\n",
      "diga_terms:1689164348 a skosxl:Label ;\n",
      "    skosxl:literalForm \"previous birth stories\"@en .\n",
      "\n",
      "diga_terms:2550564563 a skos:Concept ;\n",
      "    dc:identifier \"2550564563\" ;\n",
      "    skos:topConceptOf <https://w3id.org/diga/terms> ;\n",
      "    skosxl:prefLabel diga_terms:3242875618 .\n",
      "\n",
      "diga_terms:297365002 a skosxl:Label ;\n",
      "    skosxl:literalForm \"past lives\"@en .\n",
      "\n",
      "diga_terms:3242875618 a skosxl:Label ;\n",
      "    skosxl:literalForm \"narratives\"@en .\n",
      "\n",
      "diga_terms:3397843173 a skosxl:Label ;\n",
      "    skosxl:literalForm \"jātakas\"@en .\n",
      "\n",
      "diga_terms:467616027 a skosxl:Label ;\n",
      "    skosxl:literalForm \"previous births\"@en .\n",
      "\n",
      "<https://w3id.org/diga/terms> a skos:ConceptScheme .\n",
      "\n",
      "\n"
     ]
    }
   ],
   "source": [
    "# Generate IDs for concept and labels\n",
    "ident = generate_id(f\"({i}) {row['PREF LABEL'] or row['(sub-episodes)']}\")\n",
    "ident_en = generate_id(f\"({i}) {row['PREF LABEL'] or row['(sub-episodes)']} (en)\")\n",
    "term = diga_terms[ident]\n",
    "term_en = diga_terms[ident_en]\n",
    "\n",
    "# Add the concept\n",
    "g.add((term, RDF.type, SKOS.Concept))\n",
    "g.add((term, DC.identifier, rdflib.Literal(ident)))\n",
    "g.add((term, SKOS.inScheme, diga_terms_cs))\n",
    "\n",
    "# Link to the parent\n",
    "g.add((term, skos_thes.broaderGeneric, top_concept))\n",
    "\n",
    "# Add the source\n",
    "if source := row['CONCEPT SOURCE']:\n",
    "    g.add((term, DCTERMS.source, diga_source[source]))\n",
    "    \n",
    "# Add the labels\n",
    "g.add((term_en, RDF.type, skosxl.Label))\n",
    "g.add((term_en, skosxl.literalForm,\n",
    "       rdflib.Literal((row['PREF LABEL'] or row['(sub-episodes)']).lower(), lang='en')))\n",
    "g.add((term, skosxl.prefLabel, term_en))\n",
    "\n",
    "# TODO: add alt labels\n",
    "if alt_labels := row['ALT LABEL 1']:\n",
    "    for alt_label in re.split(r',\\s*', alt_labels):\n",
    "        # Generate IDs for alt labels\n",
    "        ident_en = generate_id(f\"({i}) {alt_label} (en)\")\n",
    "        term_en = diga_terms[ident_en]\n",
    "        # Add the label\n",
    "        g.add((term_en, RDF.type, skosxl.Label))\n",
    "        g.add((term_en, skosxl.literalForm, rdflib.Literal(alt_label.lower(), lang='en')))\n",
    "        g.add((term, skosxl.altLabel, term_en))\n",
    "\n",
    "# Show\n",
    "print(g.serialize(format='turtle'))"
   ]
  },
  {
   "cell_type": "markdown",
   "id": "bd09abbb-b5d0-4a1a-aeb1-bac6c962d65e",
   "metadata": {},
   "source": [
    "Now we can do the same thing (plus some more sophisiticated handling of preferred and alternative labels) for the whole tree.\n",
    "\n",
    "To avoid duplicate identifiers, we collect them and check that no generated ID is already taken."
   ]
  },
  {
   "cell_type": "code",
   "execution_count": 9,
   "id": "b55daa44-d995-4e23-be37-326df85544ac",
   "metadata": {},
   "outputs": [],
   "source": [
    "identifiers = {}\n",
    "\n",
    "last_concepts = {0: top_concept}\n",
    "last_level = 0\n",
    "\n",
    "with Path('Identificators_Narratives.csv').open(encoding='utf-8', newline='') as csvfile:\n",
    "    reader = csv.DictReader(csvfile)\n",
    "    for i, row in enumerate(reader, start=1):\n",
    "        if not (row['PREF LABEL'] or row['(sub-episodes)']):\n",
    "            # empty row\n",
    "            continue\n",
    "        \n",
    "        # Generate IDs for concept and labels\n",
    "        ident = generate_id(f\"({i}) {row['PREF LABEL'] or row['(sub-episodes)']}\")\n",
    "        ident_en = generate_id(f\"({i}) {row['PREF LABEL'] or row['(sub-episodes)']} (en)\")\n",
    "        term = diga_terms[ident]\n",
    "        term_en = diga_terms[ident_en]\n",
    "\n",
    "        # Add the concept\n",
    "        g.add((term, RDF.type, SKOS.Concept))\n",
    "        g.add((term, DC.identifier, rdflib.Literal(ident)))\n",
    "        g.add((term, SKOS.inScheme, diga_terms_cs))\n",
    "\n",
    "        # Find out level and parent\n",
    "        is_sub_concept = bool(row['(sub-episodes)'])\n",
    "        \n",
    "        if current_level := row['Level']:\n",
    "            last_level = current_level = int(current_level)\n",
    "        else:\n",
    "            current_level = last_level + 1\n",
    "            if is_sub_concept:\n",
    "                # Increase again by one\n",
    "                current_level += 1\n",
    "        last_concepts[current_level] = term\n",
    "        \n",
    "        # Link to the parent\n",
    "        if is_sub_concept:\n",
    "            g.add((term, skos_thes.broaderPartitive, last_concepts[current_level - 1]))\n",
    "        else:\n",
    "            g.add((term, skos_thes.broaderGeneric, last_concepts[current_level - 1]))\n",
    "\n",
    "        # Add the source\n",
    "        if source := row['CONCEPT SOURCE']:\n",
    "            g.add((term, DCTERMS.source, diga_source[source]))\n",
    "\n",
    "        # Add the labels\n",
    "        g.add((term_en, RDF.type, skosxl.Label))\n",
    "        g.add((term_en, skosxl.literalForm, rdflib.Literal(row['PREF LABEL'] or row['(sub-episodes)'], lang='en')))\n",
    "        g.add((term, skosxl.prefLabel, term_en))\n",
    "\n",
    "        # TODO: add alt labels\n",
    "        if alt_labels := row['ALT LABEL 1']:\n",
    "            for alt_label in re.split(r',\\s*', alt_labels):\n",
    "                # Generate IDs for alt labels\n",
    "                ident_en = generate_id(f\"({i}) {alt_label} (en)\")\n",
    "                term_en = diga_terms[ident_en]\n",
    "                # Add the label\n",
    "                g.add((term_en, RDF.type, skosxl.Label))\n",
    "                g.add((term_en, skosxl.literalForm, rdflib.Literal(alt_label, lang='en')))\n",
    "                g.add((term, skosxl.altLabel, term_en))"
   ]
  },
  {
   "cell_type": "markdown",
   "id": "8eb6cbd8-e501-47f4-8680-0d3e1a472a99",
   "metadata": {},
   "source": [
    "Save the graph to a file."
   ]
  },
  {
   "cell_type": "code",
   "execution_count": 10,
   "id": "bd6b2123-da01-4c4c-9e72-56aa12d87333",
   "metadata": {},
   "outputs": [],
   "source": [
    "with open('narratives.ttl', 'wb') as outfile:\n",
    "    g.serialize(destination=outfile, format='turtle')"
   ]
  },
  {
   "cell_type": "markdown",
   "id": "42f2997c-034b-44c9-9b12-9594c8d629c6",
   "metadata": {},
   "source": [
    "Done!"
   ]
  }
 ],
 "metadata": {
  "kernelspec": {
   "display_name": "Python 3 (ipykernel)",
   "language": "python",
   "name": "python3"
  },
  "language_info": {
   "codemirror_mode": {
    "name": "ipython",
    "version": 3
   },
   "file_extension": ".py",
   "mimetype": "text/x-python",
   "name": "python",
   "nbconvert_exporter": "python",
   "pygments_lexer": "ipython3",
   "version": "3.8.10"
  }
 },
 "nbformat": 4,
 "nbformat_minor": 5
}
