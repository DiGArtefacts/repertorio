{
 "cells": [
  {
   "cell_type": "code",
   "execution_count": 2,
   "id": "23d7294b-2abc-4296-b05c-3294af8de4b2",
   "metadata": {},
   "outputs": [],
   "source": [
    "from pathlib import Path\n",
    "\n",
    "import rdflib\n",
    "\n",
    "from PIL.PngImagePlugin import PngImageFile, PngInfo\n",
    "from PIL import ImageEnhance"
   ]
  },
  {
   "cell_type": "code",
   "execution_count": 3,
   "id": "261b5960-4795-46ff-8492-c85de3fb2733",
   "metadata": {},
   "outputs": [],
   "source": [
    "PAGE_DIR = Path.home() / 'Downloads' / 'Repertorio_clean' / 'Repertorio_clean' / 'page'\n",
    "IMG_DIR = PAGE_DIR / '..'\n",
    "ILLUSTRATONS_DIR = IMG_DIR / 'illustrations'\n",
    "\n",
    "CREDITS = 'ISMEO/Franceso Martore'\n",
    "AUTHOR = 'Franceso Martore'\n",
    "LICENSE = 'https://creativecommons.org/licenses/by/4.0/'"
   ]
  },
  {
   "cell_type": "code",
   "execution_count": null,
   "id": "535e31a9-912a-41d4-b0b1-e04b5c97fc1d",
   "metadata": {},
   "outputs": [],
   "source": []
  }
 ],
 "metadata": {
  "kernelspec": {
   "display_name": "Python 3 (ipykernel)",
   "language": "python",
   "name": "python3"
  },
  "language_info": {
   "codemirror_mode": {
    "name": "ipython",
    "version": 3
   },
   "file_extension": ".py",
   "mimetype": "text/x-python",
   "name": "python",
   "nbconvert_exporter": "python",
   "pygments_lexer": "ipython3",
   "version": "3.8.10"
  }
 },
 "nbformat": 4,
 "nbformat_minor": 5
}
