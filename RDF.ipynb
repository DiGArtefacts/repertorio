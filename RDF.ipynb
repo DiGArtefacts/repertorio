{
 "cells": [
  {
   "cell_type": "code",
   "execution_count": 1,
   "id": "1b790c1a-e838-4297-86e2-45f5d240db5a",
   "metadata": {},
   "outputs": [],
   "source": [
    "import pickle\n",
    "import hashlib\n",
    "\n",
    "import rdflib"
   ]
  },
  {
   "cell_type": "markdown",
   "id": "0f945cac-d5a6-4144-83f4-6d89061033f0",
   "metadata": {},
   "source": [
    "First, we import some default namespaces from `rdflib` and define additional ones. For DiGA, we define a provisional namespace under w3id.org, but we have to revise this eventially."
   ]
  },
  {
   "cell_type": "code",
   "execution_count": 2,
   "id": "c8604ae6-6d02-4304-9926-1b3a07029cff",
   "metadata": {},
   "outputs": [],
   "source": [
    "from rdflib.namespace import RDF, DC, DCTERMS, SKOS\n",
    "skosxl = rdflib.Namespace('http://www.w3.org/2008/05/skos-xl#')\n",
    "skos_thes = rdflib.Namespace('http://purl.org/iso25964/skos-thes#')\n",
    "bibo = rdflib.Namespace('http://purl.org/ontology/bibo/')\n",
    "\n",
    "diga_terms = rdflib.Namespace('https://w3id.org/diga/terms/')\n",
    "diga_source = rdflib.Namespace('https://w3id.org/diga/source/')"
   ]
  },
  {
   "cell_type": "markdown",
   "id": "944601e7-2101-4221-8cef-2eb85ea74b4d",
   "metadata": {},
   "source": [
    "We set up our graph and bind a few namespaces for nicer serialization."
   ]
  },
  {
   "cell_type": "code",
   "execution_count": 3,
   "id": "ffe77366-be27-480d-bda3-949ab17a6dba",
   "metadata": {},
   "outputs": [],
   "source": [
    "g = rdflib.Graph()\n",
    "g.bind('dct', DCTERMS)\n",
    "g.bind('skos', SKOS)\n",
    "g.bind('bibo', bibo)\n",
    "g.bind('diga_source', diga_source)"
   ]
  },
  {
   "cell_type": "markdown",
   "id": "74f5f77d-6c13-4aa0-91ce-df88aae7fd3e",
   "metadata": {},
   "source": [
    "We follow [Getty AAT](https://www.getty.edu/research/tools/vocabularies/lod/aat_semantic_representation.pdf)’s mechanism for pointing to a source for concepts and labels. At this stage, all concepts and labels stem from the _Repertorio_, so this might appear redundant, but we’ll have additional terms soon, as well as translations in other languages for which we want to note the source.\n",
    "\n",
    "Thus, we first define the repertorio as a `bibo:Document` that we can point to."
   ]
  },
  {
   "cell_type": "code",
   "execution_count": 4,
   "id": "11bc9647-f627-45c0-93e0-93bce0e8f6b1",
   "metadata": {},
   "outputs": [
    {
     "name": "stdout",
     "output_type": "stream",
     "text": [
      "@prefix bibo: <http://purl.org/ontology/bibo/> .\n",
      "@prefix dct: <http://purl.org/dc/terms/> .\n",
      "@prefix diga_source: <https://w3id.org/diga/source/> .\n",
      "@prefix skos: <http://www.w3.org/2004/02/skos/core#> .\n",
      "\n",
      "diga_source:repertorio a bibo:Document ;\n",
      "    dct:title \"Repertorio terminologico per la schedatura delle sculture dell’arte gandharica\" ;\n",
      "    bibo:shortTitle \"Faccenna and Filigenzi. Repertorio. 2007\" ;\n",
      "    skos:note \"Faccenna, Domenico, and Anna Filigenzi. 2007. Repertorio terminologico per la schedatura delle sculture dell’arte gandharica – Sulla base dei materiali provenienti dagli scavi della Missione Archeologica Italiana dell’IsIAO nello Swat, Pakistan. Rome: IsIAO.\" .\n",
      "\n",
      "\n"
     ]
    }
   ],
   "source": [
    "g.add((diga_source.repertorio, RDF.type, bibo.Document))\n",
    "g.add((diga_source.repertorio, bibo.shortTitle, rdflib.Literal('Faccenna and Filigenzi. Repertorio. 2007')))\n",
    "g.add((diga_source.repertorio, DCTERMS.title, rdflib.Literal('Repertorio terminologico per la schedatura delle sculture dell’arte gandharica')))\n",
    "g.add((diga_source.repertorio, SKOS.note, rdflib.Literal('Faccenna, Domenico, and Anna Filigenzi. 2007. Repertorio terminologico per la schedatura delle sculture dell’arte gandharica – Sulla base dei materiali provenienti dagli scavi della Missione Archeologica Italiana dell’IsIAO nello Swat, Pakistan. Rome: IsIAO.')))\n",
    "print(g.serialize(format='turtle').decode('utf8'))"
   ]
  },
  {
   "cell_type": "markdown",
   "id": "80499661-d5d5-4286-9aa9-5650a9a4b489",
   "metadata": {},
   "source": [
    "We have the source vocabulary as a separate file that we can import later."
   ]
  },
  {
   "cell_type": "code",
   "execution_count": 5,
   "id": "7d534efd-9c2a-4ea1-aa8c-3a1530b5aa03",
   "metadata": {},
   "outputs": [],
   "source": [
    "with open('diga_sources.ttl', 'wb') as outfile:\n",
    "    g.serialize(destination=outfile, format='turtle')"
   ]
  },
  {
   "cell_type": "markdown",
   "id": "a0461b9c-5180-4e05-bc3a-9d3b3a95ea09",
   "metadata": {},
   "source": [
    "Now we create a new graph for the actual vocabulary."
   ]
  },
  {
   "cell_type": "code",
   "execution_count": 6,
   "id": "03ae8da9-e700-4a27-9716-cbb75f59d5b2",
   "metadata": {},
   "outputs": [],
   "source": [
    "g = rdflib.Graph()\n",
    "g.bind('dc', DC)\n",
    "g.bind('dct', DCTERMS)\n",
    "g.bind('skos', SKOS)\n",
    "g.bind('skosxl', skosxl)\n",
    "g.bind('skos-thes', skos_thes)\n",
    "g.bind('diga_terms', diga_terms)\n",
    "g.bind('diga_source', diga_source)"
   ]
  },
  {
   "cell_type": "markdown",
   "id": "ded6fcee-ff8d-48ae-8a55-e1e16da24083",
   "metadata": {},
   "source": [
    "Our vocabulary is also a `skos:ConceptScheme`."
   ]
  },
  {
   "cell_type": "code",
   "execution_count": 7,
   "id": "ef5cce73-38cb-40a7-8eaa-e47c8311f453",
   "metadata": {},
   "outputs": [],
   "source": [
    "diga_terms_cs = rdflib.URIRef('https://w3id.org/diga/terms')\n",
    "g.add((diga_terms_cs, RDF.type, SKOS.ConceptScheme))"
   ]
  },
  {
   "cell_type": "markdown",
   "id": "4febf97a-bac2-4311-a1f8-b73dfdd43b43",
   "metadata": {},
   "source": [
    "We need to assign URIs to each concept. Small, closed vocabularies like DC use human-readable URIs that express the meaning, like `dc:title`. Other, large ones like AAT use numerical IDs, e.g. `aat:300423650` (double-pointed pick). AAT uses its database IDs for this. Since we don’t have IDs, we need to generate ones. Instead of just generating random IDs, we generate an ID from the label in the tree. That allows for a certain reproducibility. We convert hex codes to decimals simply because the look less arcane."
   ]
  },
  {
   "cell_type": "code",
   "execution_count": 8,
   "id": "11cf7280-5f40-4d4c-976d-4d74e49083f7",
   "metadata": {},
   "outputs": [
    {
     "data": {
      "text/plain": [
       "'2443743546'"
      ]
     },
     "execution_count": 8,
     "metadata": {},
     "output_type": "execute_result"
    }
   ],
   "source": [
    "def generate_id(label):\n",
    "    h = hashlib.sha1(label.encode('utf-8')).hexdigest()\n",
    "    h_short = h[0:8]\n",
    "    id_int = int(h_short, 16)\n",
    "    return str(id_int)\n",
    "\n",
    "generate_id('DiGA')"
   ]
  },
  {
   "cell_type": "markdown",
   "id": "1143ec07-c146-4e43-8813-6c81d08b687a",
   "metadata": {},
   "source": [
    "Now we load the concept tree we saved during [OCR extraction](Extract_OCR.ipynb) and convert it to RDF."
   ]
  },
  {
   "cell_type": "code",
   "execution_count": 9,
   "id": "1378d845-8433-4288-99a9-93c83230d273",
   "metadata": {},
   "outputs": [],
   "source": [
    "with open('repertorio_tree.pickle', 'rb') as picklefile:\n",
    "    tree = pickle.load(picklefile)"
   ]
  },
  {
   "cell_type": "markdown",
   "id": "b908bf92-5d6f-43b1-ab32-335304511645",
   "metadata": {},
   "source": [
    "As a demonstration, we pick the first non-root node in the tree and show the resulting RDF representation."
   ]
  },
  {
   "cell_type": "code",
   "execution_count": 10,
   "id": "8866e2eb-484c-4084-8859-94cb7d904800",
   "metadata": {},
   "outputs": [],
   "source": [
    "for entry in tree.expand_tree(mode=tree.DEPTH):\n",
    "    if tree[entry].identifier == tree.root:\n",
    "        # Ignore root, it’s a fake node\n",
    "        continue\n",
    "    break"
   ]
  },
  {
   "cell_type": "code",
   "execution_count": 11,
   "id": "440a354c-dbbb-41b9-bbe2-3844f421265b",
   "metadata": {},
   "outputs": [
    {
     "name": "stdout",
     "output_type": "stream",
     "text": [
      "@prefix dc: <http://purl.org/dc/elements/1.1/> .\n",
      "@prefix dct: <http://purl.org/dc/terms/> .\n",
      "@prefix diga_source: <https://w3id.org/diga/source/> .\n",
      "@prefix diga_terms: <https://w3id.org/diga/terms/> .\n",
      "@prefix skos: <http://www.w3.org/2004/02/skos/core#> .\n",
      "@prefix skosxl: <http://www.w3.org/2008/05/skos-xl#> .\n",
      "\n",
      "diga_terms:1772668966 a skos:Concept ;\n",
      "    dc:identifier \"1772668966\" ;\n",
      "    dct:source diga_source:repertorio ;\n",
      "    skos:topConceptOf <https://w3id.org/diga/terms> ;\n",
      "    skosxl:prefLabel diga_terms:2809229738,\n",
      "        diga_terms:3983648794 .\n",
      "\n",
      "<https://w3id.org/diga/terms> a skos:ConceptScheme .\n",
      "\n",
      "diga_terms:2809229738 a skosxl:Label ;\n",
      "    dct:source diga_source:repertorio ;\n",
      "    skosxl:literalForm \"strumenti per la lavorazione della pietra\"@it .\n",
      "\n",
      "diga_terms:3983648794 a skosxl:Label ;\n",
      "    dct:source diga_source:repertorio ;\n",
      "    skosxl:literalForm \"tools for working stone\"@en .\n",
      "\n",
      "\n"
     ]
    }
   ],
   "source": [
    "node = tree[entry]\n",
    "\n",
    "# Generate IDs for concept and labels\n",
    "ident = generate_id(f\"({node.data['number']}) {node.data['it']} | {node.data['en']}\")\n",
    "ident_it = generate_id(f\"({node.data['number']}) {node.data['it']}\")\n",
    "ident_en = generate_id(f\"({node.data['number']}) {node.data['en']}\")\n",
    "term = diga_terms[ident]\n",
    "term_it = diga_terms[ident_it]\n",
    "term_en = diga_terms[ident_en]\n",
    "\n",
    "# Add the concept\n",
    "g.add((term, RDF.type, SKOS.Concept))\n",
    "g.add((term, DC.identifier, rdflib.Literal(ident)))\n",
    "if node.predecessor(tree.identifier) == tree.root:\n",
    "    # Top level concept\n",
    "    g.add((term, SKOS.topConceptOf, diga_terms_cs))\n",
    "else:\n",
    "    g.add((term, SKOS.inScheme, diga_terms_cs))\n",
    "g.add((term, DCTERMS.source, diga_source.repertorio))\n",
    "    \n",
    "# Add the labels\n",
    "g.add((term_it, RDF.type, skosxl.Label))\n",
    "g.add((term_it, skosxl.literalForm, rdflib.Literal(node.data['it'], lang='it')))\n",
    "g.add((term_it, DCTERMS.source, diga_source.repertorio))\n",
    "\n",
    "g.add((term_en, RDF.type, skosxl.Label))\n",
    "g.add((term_en, skosxl.literalForm, rdflib.Literal(node.data['en'], lang='en')))\n",
    "g.add((term_en, DCTERMS.source, diga_source.repertorio))\n",
    "\n",
    "g.add((term, skosxl.prefLabel, term_it))\n",
    "g.add((term, skosxl.prefLabel, term_en))\n",
    "\n",
    "# Show\n",
    "print(g.serialize(format='turtle').decode('utf8'))"
   ]
  },
  {
   "cell_type": "markdown",
   "id": "bd09abbb-b5d0-4a1a-aeb1-bac6c962d65e",
   "metadata": {},
   "source": [
    "Now we can do the same thing for the whole tree."
   ]
  },
  {
   "cell_type": "code",
   "execution_count": 12,
   "id": "b55daa44-d995-4e23-be37-326df85544ac",
   "metadata": {},
   "outputs": [],
   "source": [
    "for entry in tree.expand_tree(mode=tree.DEPTH):\n",
    "    if tree[entry].identifier == tree.root:\n",
    "        # Ignore root, it’s a fake node\n",
    "        continue\n",
    "\n",
    "    node = tree[entry]\n",
    "    if node.data['type'] == 'facet':\n",
    "        # Facets in brackets (like “[front face]” or “[overview]”) are not concepts\n",
    "        if node.data['it'].startswith('['):\n",
    "            continue\n",
    "\n",
    "    # Generate IDs for concept and labels\n",
    "    ident = generate_id(f\"({node.data['number']}) {node.data['it']} | {node.data['en']}\")\n",
    "    ident_it = generate_id(f\"({node.data['number']}) {node.data['it']}\")\n",
    "    ident_en = generate_id(f\"({node.data['number']}) {node.data['en']}\")\n",
    "    term = diga_terms[ident]\n",
    "    term_it = diga_terms[ident_it]\n",
    "    term_en = diga_terms[ident_en]\n",
    "    # Write identifier to the node data for later use\n",
    "    node.data['ident'] = ident\n",
    "\n",
    "    # Add the concept\n",
    "    g.add((term, RDF.type, SKOS.Concept))\n",
    "    g.add((term, DC.identifier, rdflib.Literal(ident)))\n",
    "    parent_id = node.predecessor(tree.identifier)\n",
    "    if parent_id == tree.root:\n",
    "        # Top level concept\n",
    "        g.add((term, SKOS.topConceptOf, diga_terms_cs))\n",
    "    else:\n",
    "        g.add((term, SKOS.inScheme, diga_terms_cs))\n",
    "        # Add broader* relation to parent node, depending on type\n",
    "        if node.data['type'] == 'part':\n",
    "            broader = skos_thes.broaderPartitive\n",
    "        else:\n",
    "            broader = skos_thes.broaderGeneric\n",
    "        parent = tree[parent_id]\n",
    "        parent_term = diga_terms[parent.data['ident']]\n",
    "        g.add((term, broader, parent_term))\n",
    "        \n",
    "    g.add((term, DCTERMS.source, diga_source.repertorio))\n",
    "\n",
    "    # Add the labels\n",
    "    g.add((term_it, RDF.type, skosxl.Label))\n",
    "    g.add((term_it, skosxl.literalForm, rdflib.Literal(node.data['it'], lang='it')))\n",
    "    g.add((term_it, DCTERMS.source, diga_source.repertorio))\n",
    "\n",
    "    g.add((term_en, RDF.type, skosxl.Label))\n",
    "    g.add((term_en, skosxl.literalForm, rdflib.Literal(node.data['en'], lang='en')))\n",
    "    g.add((term_en, DCTERMS.source, diga_source.repertorio))\n",
    "\n",
    "    g.add((term, skosxl.prefLabel, term_it))\n",
    "    g.add((term, skosxl.prefLabel, term_en))"
   ]
  },
  {
   "cell_type": "markdown",
   "id": "61455253-7b25-4a1c-9f28-a8da93f68889",
   "metadata": {},
   "source": [
    "Save the graph to a file."
   ]
  },
  {
   "cell_type": "code",
   "execution_count": 13,
   "id": "c0dfb14e-642e-421b-9cbf-2904bba1efe2",
   "metadata": {},
   "outputs": [],
   "source": [
    "with open('repertorio.ttl', 'wb') as outfile:\n",
    "    g.serialize(destination=outfile, format='turtle')"
   ]
  },
  {
   "cell_type": "markdown",
   "id": "d1fb8c08-8aa6-41bf-8998-82c308ca89e6",
   "metadata": {},
   "source": [
    "Done!"
   ]
  }
 ],
 "metadata": {
  "kernelspec": {
   "display_name": "Python 3",
   "language": "python",
   "name": "python3"
  },
  "language_info": {
   "codemirror_mode": {
    "name": "ipython",
    "version": 3
   },
   "file_extension": ".py",
   "mimetype": "text/x-python",
   "name": "python",
   "nbconvert_exporter": "python",
   "pygments_lexer": "ipython3",
   "version": "3.8.5"
  }
 },
 "nbformat": 4,
 "nbformat_minor": 5
}
