{
 "cells": [
  {
   "cell_type": "code",
   "execution_count": 1,
   "id": "1b790c1a-e838-4297-86e2-45f5d240db5a",
   "metadata": {},
   "outputs": [],
   "source": [
    "import pickle\n",
    "import hashlib\n",
    "import re\n",
    "from pathlib import Path\n",
    "\n",
    "import rdflib"
   ]
  },
  {
   "cell_type": "markdown",
   "id": "0f945cac-d5a6-4144-83f4-6d89061033f0",
   "metadata": {},
   "source": [
    "First, we import some default namespaces from `rdflib` and define additional ones. For DiGA, we define a provisional namespace under w3id.org, but we have to revise this eventially."
   ]
  },
  {
   "cell_type": "code",
   "execution_count": 2,
   "id": "c8604ae6-6d02-4304-9926-1b3a07029cff",
   "metadata": {},
   "outputs": [],
   "source": [
    "from rdflib.namespace import RDF, DC, DCTERMS, SKOS, FOAF\n",
    "skosxl = rdflib.Namespace('http://www.w3.org/2008/05/skos-xl#')\n",
    "skos_thes = rdflib.Namespace('http://purl.org/iso25964/skos-thes#')\n",
    "bibo = rdflib.Namespace('http://purl.org/ontology/bibo/')\n",
    "\n",
    "diga_terms = rdflib.Namespace('https://w3id.org/diga/terms/')\n",
    "diga_source = rdflib.Namespace('https://w3id.org/diga/source/')"
   ]
  },
  {
   "cell_type": "markdown",
   "id": "944601e7-2101-4221-8cef-2eb85ea74b4d",
   "metadata": {},
   "source": [
    "We set up our graph and bind a few namespaces for nicer serialization."
   ]
  },
  {
   "cell_type": "code",
   "execution_count": 3,
   "id": "ffe77366-be27-480d-bda3-949ab17a6dba",
   "metadata": {},
   "outputs": [],
   "source": [
    "g = rdflib.Graph()\n",
    "g.bind('dct', DCTERMS)\n",
    "g.bind('skos', SKOS)\n",
    "g.bind('bibo', bibo)\n",
    "g.bind('diga_source', diga_source)"
   ]
  },
  {
   "cell_type": "markdown",
   "id": "74f5f77d-6c13-4aa0-91ce-df88aae7fd3e",
   "metadata": {},
   "source": [
    "We follow [Getty AAT](https://www.getty.edu/research/tools/vocabularies/lod/aat_semantic_representation.pdf)’s mechanism for pointing to a source for concepts and labels. At this stage, all concepts and labels stem from the _Repertorio_, so this might appear redundant, but we’ll have additional terms soon, as well as translations in other languages for which we want to note the source.\n",
    "\n",
    "Thus, we first define the repertorio as a `bibo:Document` that we can point to."
   ]
  },
  {
   "cell_type": "code",
   "execution_count": 4,
   "id": "11bc9647-f627-45c0-93e0-93bce0e8f6b1",
   "metadata": {},
   "outputs": [
    {
     "name": "stdout",
     "output_type": "stream",
     "text": [
      "@prefix bibo: <http://purl.org/ontology/bibo/> .\n",
      "@prefix dct: <http://purl.org/dc/terms/> .\n",
      "@prefix diga_source: <https://w3id.org/diga/source/> .\n",
      "@prefix skos: <http://www.w3.org/2004/02/skos/core#> .\n",
      "\n",
      "diga_source:repertorio a bibo:Document ;\n",
      "    dct:title \"Repertorio terminologico per la schedatura delle sculture dell’arte gandharica\" ;\n",
      "    bibo:shortTitle \"Faccenna and Filigenzi. Repertorio. 2007\" ;\n",
      "    skos:note \"Faccenna, Domenico, and Anna Filigenzi. 2007. Repertorio terminologico per la schedatura delle sculture dell’arte gandharica – Sulla base dei materiali provenienti dagli scavi della Missione Archeologica Italiana dell’IsIAO nello Swat, Pakistan. Rome: IsIAO.\" .\n",
      "\n",
      "\n"
     ]
    }
   ],
   "source": [
    "g.add((diga_source.repertorio, RDF.type, bibo.Document))\n",
    "g.add((diga_source.repertorio, bibo.shortTitle, rdflib.Literal('Faccenna and Filigenzi. Repertorio. 2007')))\n",
    "g.add((diga_source.repertorio, DCTERMS.title, rdflib.Literal('Repertorio terminologico per la schedatura delle sculture dell’arte gandharica')))\n",
    "g.add((diga_source.repertorio, SKOS.note, rdflib.Literal('Faccenna, Domenico, and Anna Filigenzi. 2007. Repertorio terminologico per la schedatura delle sculture dell’arte gandharica – Sulla base dei materiali provenienti dagli scavi della Missione Archeologica Italiana dell’IsIAO nello Swat, Pakistan. Rome: IsIAO.')))\n",
    "print(g.serialize(format='turtle').decode('utf8'))"
   ]
  },
  {
   "cell_type": "markdown",
   "id": "80499661-d5d5-4286-9aa9-5650a9a4b489",
   "metadata": {},
   "source": [
    "We have the source vocabulary as a separate file that we can import later."
   ]
  },
  {
   "cell_type": "code",
   "execution_count": 5,
   "id": "7d534efd-9c2a-4ea1-aa8c-3a1530b5aa03",
   "metadata": {},
   "outputs": [],
   "source": [
    "with open('diga_sources.ttl', 'wb') as outfile:\n",
    "    g.serialize(destination=outfile, format='turtle')"
   ]
  },
  {
   "cell_type": "markdown",
   "id": "a0461b9c-5180-4e05-bc3a-9d3b3a95ea09",
   "metadata": {},
   "source": [
    "Now we create a new graph for the actual vocabulary."
   ]
  },
  {
   "cell_type": "code",
   "execution_count": 6,
   "id": "03ae8da9-e700-4a27-9716-cbb75f59d5b2",
   "metadata": {},
   "outputs": [],
   "source": [
    "g = rdflib.Graph()\n",
    "g.bind('dc', DC)\n",
    "g.bind('dct', DCTERMS)\n",
    "g.bind('foaf', FOAF)\n",
    "g.bind('skos', SKOS)\n",
    "g.bind('skosxl', skosxl)\n",
    "g.bind('skos-thes', skos_thes)\n",
    "g.bind('diga_terms', diga_terms)\n",
    "g.bind('diga_source', diga_source)"
   ]
  },
  {
   "cell_type": "markdown",
   "id": "ded6fcee-ff8d-48ae-8a55-e1e16da24083",
   "metadata": {},
   "source": [
    "Our vocabulary is also a `skos:ConceptScheme`."
   ]
  },
  {
   "cell_type": "code",
   "execution_count": 7,
   "id": "ef5cce73-38cb-40a7-8eaa-e47c8311f453",
   "metadata": {},
   "outputs": [],
   "source": [
    "diga_terms_cs = rdflib.URIRef('https://w3id.org/diga/terms')\n",
    "g.add((diga_terms_cs, RDF.type, SKOS.ConceptScheme))"
   ]
  },
  {
   "cell_type": "markdown",
   "id": "4febf97a-bac2-4311-a1f8-b73dfdd43b43",
   "metadata": {},
   "source": [
    "We need to assign URIs to each concept. Small, closed vocabularies like DC use human-readable URIs that express the meaning, like `dc:title`. Other, large ones like AAT use numerical IDs, e.g. `aat:300423650` (double-pointed pick). AAT uses its database IDs for this. Since we don’t have IDs, we need to generate ones. Instead of just generating random IDs, we generate an ID from the label in the tree. Compared to completely random identifiers, this allows for a certain reproducibility (multiple runs will produce the same IDs). We convert hex codes to decimals simply because they look less arcane."
   ]
  },
  {
   "cell_type": "code",
   "execution_count": 8,
   "id": "11cf7280-5f40-4d4c-976d-4d74e49083f7",
   "metadata": {},
   "outputs": [
    {
     "data": {
      "text/plain": [
       "'2443743546'"
      ]
     },
     "execution_count": 8,
     "metadata": {},
     "output_type": "execute_result"
    }
   ],
   "source": [
    "def generate_id(label):\n",
    "    h = hashlib.sha1(label.encode('utf-8')).hexdigest()\n",
    "    h_short = h[0:8]\n",
    "    id_int = int(h_short, 16)\n",
    "    return str(id_int)\n",
    "\n",
    "generate_id('DiGA')"
   ]
  },
  {
   "cell_type": "markdown",
   "id": "1143ec07-c146-4e43-8813-6c81d08b687a",
   "metadata": {},
   "source": [
    "Now we load the concept tree we saved during [OCR extraction](Extract_OCR.ipynb) and convert it to RDF."
   ]
  },
  {
   "cell_type": "code",
   "execution_count": 9,
   "id": "1378d845-8433-4288-99a9-93c83230d273",
   "metadata": {},
   "outputs": [],
   "source": [
    "with open('repertorio_tree.pickle', 'rb') as picklefile:\n",
    "    tree = pickle.load(picklefile)"
   ]
  },
  {
   "cell_type": "markdown",
   "id": "b908bf92-5d6f-43b1-ab32-335304511645",
   "metadata": {},
   "source": [
    "As a demonstration, we pick an example node in the tree and show the resulting RDF representation."
   ]
  },
  {
   "cell_type": "code",
   "execution_count": 10,
   "id": "85e55b59-fee2-49e8-a026-daef3253bf0d",
   "metadata": {},
   "outputs": [
    {
     "data": {
      "text/plain": [
       "Node(tag=(1.1) strumenti per la lavorazione della pietra | tools for working stone, identifier=1c0e77e2-cbba-11eb-8b81-d911da234e72, data={'number': '1.1', 'it': 'strumenti per la lavorazione della pietra', 'en': 'tools for working stone', 'type': 'heading', 'level': 2, 'page_file': 'Repertorio-022.xml', 'display': '(1.1) strumenti per la lavorazione della pietra | tools for working stone', 'row': 1})"
      ]
     },
     "execution_count": 10,
     "metadata": {},
     "output_type": "execute_result"
    }
   ],
   "source": [
    "for entry in tree.expand_tree():\n",
    "    node = tree[entry]\n",
    "    if not node.identifier == tree.root:\n",
    "        break\n",
    "node"
   ]
  },
  {
   "cell_type": "markdown",
   "id": "ad2bb500-8d73-462a-9cce-5893af7f290d",
   "metadata": {},
   "source": [
    "When calculating an identifier for an entry, the label itself is not enough, because they are not unique. We take row number from the OCR into account."
   ]
  },
  {
   "cell_type": "code",
   "execution_count": 11,
   "id": "440a354c-dbbb-41b9-bbe2-3844f421265b",
   "metadata": {},
   "outputs": [
    {
     "name": "stdout",
     "output_type": "stream",
     "text": [
      "@prefix dc: <http://purl.org/dc/elements/1.1/> .\n",
      "@prefix dct: <http://purl.org/dc/terms/> .\n",
      "@prefix diga_source: <https://w3id.org/diga/source/> .\n",
      "@prefix diga_terms: <https://w3id.org/diga/terms/> .\n",
      "@prefix skos: <http://www.w3.org/2004/02/skos/core#> .\n",
      "@prefix skosxl: <http://www.w3.org/2008/05/skos-xl#> .\n",
      "\n",
      "diga_terms:2838159259 a skos:Concept ;\n",
      "    dc:identifier \"2838159259\" ;\n",
      "    dct:source diga_source:repertorio ;\n",
      "    skos:topConceptOf <https://w3id.org/diga/terms> ;\n",
      "    skosxl:prefLabel diga_terms:1135055502,\n",
      "        diga_terms:1266854144 .\n",
      "\n",
      "<https://w3id.org/diga/terms> a skos:ConceptScheme .\n",
      "\n",
      "diga_terms:1135055502 a skosxl:Label ;\n",
      "    dct:source diga_source:repertorio ;\n",
      "    skosxl:literalForm \"tools for working stone\"@en .\n",
      "\n",
      "diga_terms:1266854144 a skosxl:Label ;\n",
      "    dct:source diga_source:repertorio ;\n",
      "    skosxl:literalForm \"strumenti per la lavorazione della pietra\"@it .\n",
      "\n",
      "\n"
     ]
    }
   ],
   "source": [
    "# Generate IDs for concept and labels\n",
    "ident = generate_id(f\"({node.data['row']}|{node.data['number']}) {node.data['it']} | {node.data['en']}\")\n",
    "ident_it = generate_id(f\"{node.data['row']}|({node.data['number']}) {node.data['it']} (it)\")\n",
    "ident_en = generate_id(f\"({node.data['row']}|{node.data['number']}) {node.data['en']} (en)\")\n",
    "term = diga_terms[ident]\n",
    "term_it = diga_terms[ident_it]\n",
    "term_en = diga_terms[ident_en]\n",
    "\n",
    "# Add the concept\n",
    "g.add((term, RDF.type, SKOS.Concept))\n",
    "g.add((term, DC.identifier, rdflib.Literal(ident)))\n",
    "if node.predecessor(tree.identifier) == tree.root:\n",
    "    # Top level concept\n",
    "    g.add((term, SKOS.topConceptOf, diga_terms_cs))\n",
    "else:\n",
    "    g.add((term, SKOS.inScheme, diga_terms_cs))\n",
    "g.add((term, DCTERMS.source, diga_source.repertorio))\n",
    "    \n",
    "# Add the labels\n",
    "g.add((term_it, RDF.type, skosxl.Label))\n",
    "g.add((term_it, skosxl.literalForm, rdflib.Literal(node.data['it'], lang='it')))\n",
    "g.add((term_it, DCTERMS.source, diga_source.repertorio))\n",
    "\n",
    "g.add((term_en, RDF.type, skosxl.Label))\n",
    "g.add((term_en, skosxl.literalForm, rdflib.Literal(node.data['en'], lang='en')))\n",
    "g.add((term_en, DCTERMS.source, diga_source.repertorio))\n",
    "\n",
    "g.add((term, skosxl.prefLabel, term_it))\n",
    "g.add((term, skosxl.prefLabel, term_en))\n",
    "\n",
    "# Show\n",
    "print(g.serialize(format='turtle').decode('utf8'))"
   ]
  },
  {
   "cell_type": "markdown",
   "id": "bd09abbb-b5d0-4a1a-aeb1-bac6c962d65e",
   "metadata": {},
   "source": [
    "Now we can do the same thing (plus some more sophisiticated handling of preferred and alternative labels) for the whole tree.\n",
    "\n",
    "To avoid duplicate identifiers, we collect them and check that no generated ID is already taken."
   ]
  },
  {
   "cell_type": "code",
   "execution_count": 12,
   "id": "b55daa44-d995-4e23-be37-326df85544ac",
   "metadata": {},
   "outputs": [],
   "source": [
    "identifiers = {}\n",
    "\n",
    "for entry in tree.expand_tree(mode=tree.DEPTH):\n",
    "    if tree[entry].identifier == tree.root:\n",
    "        # Ignore root, it’s a fake node\n",
    "        continue\n",
    "\n",
    "    node = tree[entry]\n",
    "    label_it = node.data['it']\n",
    "    label_en = node.data['en']\n",
    "    \n",
    "    # Make labels lowercase\n",
    "    label_it = label_it.lower()\n",
    "    label_en = label_en.lower()\n",
    "    \n",
    "    # Ignore facets that are not concept of their own\n",
    "    if node.data['type'] == 'facet':\n",
    "        # Facets in brackets (like “[front face]” or “[overview]”) are not concepts\n",
    "        if label_it.startswith('['):\n",
    "            continue\n",
    "\n",
    "    # Strip footnotes\n",
    "    label_it = re.sub(r'\\s+\\(\\d+\\)', '', label_it)\n",
    "    label_en = re.sub(r'\\s+\\(\\d+\\)', '', label_en)\n",
    "            \n",
    "    # Identify altLabels\n",
    "    if m := re.match(r'^(.+) \\(=([^)]+)\\)$', label_it):\n",
    "        pref_label_it, alt_label_it = m.groups()\n",
    "    else:\n",
    "        pref_label_it = label_it\n",
    "        alt_label_it = None\n",
    "    if m := re.match(r'^(.+) \\(=([^)]+)\\)$', label_en):\n",
    "        pref_label_en, alt_label_en = m.groups()\n",
    "    else:\n",
    "        pref_label_en = label_en\n",
    "        alt_label_en = None\n",
    "\n",
    "    # Generate IDs for concept and labels\n",
    "    ident = generate_id(f\"({node.data['row']}|{node.data['number']}) {node.data['it']} | {node.data['en']}\")\n",
    "    ident_it = generate_id(f\"{node.data['row']}|({node.data['number']}) {pref_label_it} (it)\")\n",
    "    ident_en = generate_id(f\"({node.data['row']}|{node.data['number']}) {pref_label_en} (en)\")\n",
    "    for _ident in (ident, ident_it, ident_en):\n",
    "        assert _ident not in identifiers, f'Duplicate identifier {_ident} for {node}, already taken by {identifiers[_ident]}.'\n",
    "        identifiers[_ident] = node\n",
    "    term = diga_terms[ident]\n",
    "    term_it = diga_terms[ident_it]\n",
    "    term_en = diga_terms[ident_en]\n",
    "\n",
    "    if alt_label_it:\n",
    "        ident_it_alt = _ident = generate_id(f\"{node.data['row']}|({node.data['number']}) {alt_label_it} (it,alt)\")\n",
    "        assert _ident not in identifiers, f'Duplicate identifier {_ident} for {node}, already taken by {identifiers[_ident]}.'\n",
    "        identifiers[_ident] = node\n",
    "        term_it_alt = diga_terms[ident_it_alt]\n",
    "    if alt_label_en:\n",
    "        ident_en_alt = _ident = generate_id(f\"{node.data['row']}|({node.data['number']}) {alt_label_en} (en,alt)\")\n",
    "        assert _ident not in identifiers, f'Duplicate identifier {_ident} for {node}, already taken by {identifiers[_ident]}.'\n",
    "        identifiers[_ident] = node\n",
    "        term_en_alt = diga_terms[ident_en_alt]\n",
    "\n",
    "    # Write identifier to the node data for later use\n",
    "    node.data['ident'] = ident\n",
    "\n",
    "    # Add the concept\n",
    "    g.add((term, RDF.type, SKOS.Concept))\n",
    "    g.add((term, DC.identifier, rdflib.Literal(ident)))\n",
    "    parent_id = node.predecessor(tree.identifier)\n",
    "    if parent_id == tree.root:\n",
    "        # Top level concept\n",
    "        g.add((term, SKOS.topConceptOf, diga_terms_cs))\n",
    "    else:\n",
    "        g.add((term, SKOS.inScheme, diga_terms_cs))\n",
    "        # Add broader* relation to parent node, depending on type\n",
    "        if node.data['type'] == 'part':\n",
    "            broader = skos_thes.broaderPartitive\n",
    "        else:\n",
    "            broader = skos_thes.broaderGeneric\n",
    "        parent = tree[parent_id]\n",
    "        parent_term = diga_terms[parent.data['ident']]\n",
    "        g.add((term, broader, parent_term))\n",
    "    \n",
    "    # Add depiction\n",
    "    if 'depiction' in node.data:\n",
    "        img_path = Path(node.data['depiction'])\n",
    "        g.add((term, FOAF.depiction, rdflib.URIRef(f'https://pages.ceres.rub.de/diga/terms/illustrations/{img_path.name}')))\n",
    "    \n",
    "    # Add the source\n",
    "    g.add((term, DCTERMS.source, diga_source.repertorio))\n",
    "    \n",
    "    # Add number as editorialNote\n",
    "    g.add((term, SKOS.editorialNote, rdflib.Literal(f'Figure label in repertorio: {node.data[\"number\"]}',\n",
    "                                                    lang='en')))\n",
    "\n",
    "    # Add the labels\n",
    "    g.add((term_it, RDF.type, skosxl.Label))\n",
    "    g.add((term_it, skosxl.literalForm, rdflib.Literal(pref_label_it, lang='it')))\n",
    "    g.add((term_it, DCTERMS.source, diga_source.repertorio))\n",
    "\n",
    "    g.add((term_en, RDF.type, skosxl.Label))\n",
    "    g.add((term_en, skosxl.literalForm, rdflib.Literal(pref_label_en, lang='en')))\n",
    "    g.add((term_en, DCTERMS.source, diga_source.repertorio))\n",
    "\n",
    "    g.add((term, skosxl.prefLabel, term_it))\n",
    "    g.add((term, skosxl.prefLabel, term_en))\n",
    "    \n",
    "    if alt_label_it:\n",
    "        g.add((term_it_alt, RDF.type, skosxl.Label))\n",
    "        g.add((term_it_alt, skosxl.literalForm, rdflib.Literal(alt_label_it, lang='it')))\n",
    "        g.add((term_it_alt, DCTERMS.source, diga_source.repertorio))\n",
    "        \n",
    "        g.add((term, skosxl.altLabel, term_it_alt))\n",
    "\n",
    "    if alt_label_en:\n",
    "        g.add((term_en_alt, RDF.type, skosxl.Label))\n",
    "        g.add((term_en_alt, skosxl.literalForm, rdflib.Literal(alt_label_en, lang='en')))\n",
    "        g.add((term_en_alt, DCTERMS.source, diga_source.repertorio))\n",
    "        \n",
    "        g.add((term, skosxl.altLabel, term_en_alt))"
   ]
  },
  {
   "cell_type": "markdown",
   "id": "8f41f089-d174-4398-935b-8c40923a1e15",
   "metadata": {},
   "source": [
    "There is a special case where a main concept lists both variants (ernumerated 1.1, 1.2, …) and parts (enumerated a, b, …). Take this example:\n",
    "\n",
    "```\n",
    "(1) Base di monumento, a toro | Base of monument of torus type\n",
    "├── (1.1) a toro [liscio] | with [smooth] torus\n",
    "├── (1.2) a toro a tre facce | with three-sided bevelled torus\n",
    "├── (1.3) a toro carenato | with carenated torus\n",
    "├── (a) zoccolo | plinth\n",
    "├── (b) toro [liscio] | [smooth] torus\n",
    "├── (b1) toro a tre facce | three-sided bevelled torus\n",
    "├── (b2) toro carenato | carenated torus\n",
    "├── (c) guscio | cavetto\n",
    "├── (c1) guscio teso | straight cavetto\n",
    "└── (d) listello | fillet\n",
    "```\n",
    "\n",
    "Principally, the parts of the main concept can also be parts of the subtypes, and the illustrations usually show this. In some cases (like this), not all parts can actually appear with all variants, but this is hard to automatically determine.\n",
    "\n",
    "So what we do here is make a SPARQL query that gives all pairs of variants and parts that have a common parent. Then we add a `skos:broaderPartitive` relation between the variant and the part.\n",
    "\n",
    "We are making this in a separate step because sibling information is not easily available in treelib, and because now we know that all elements have their final identifiers.\n",
    "\n",
    "Also, we could probably use SPARQL UPDATE, but I’m just not versed enough to do that."
   ]
  },
  {
   "cell_type": "code",
   "execution_count": 13,
   "id": "8482e4c0-d2b8-43e5-a5d9-dfd05d7e69a9",
   "metadata": {},
   "outputs": [],
   "source": [
    "qres = g.query(\n",
    "    \"\"\"SELECT ?facet ?part\n",
    "       WHERE {\n",
    "          ?part skos-thes:broaderPartitive ?parent .\n",
    "          ?facet skos-thes:broaderGeneric ?parent .\n",
    "       }\"\"\")\n",
    "\n",
    "for facet, part in qres:\n",
    "    g.add((part, skos_thes.broaderPartitive, facet))"
   ]
  },
  {
   "cell_type": "markdown",
   "id": "8eb6cbd8-e501-47f4-8680-0d3e1a472a99",
   "metadata": {},
   "source": [
    "Save the graph to a file."
   ]
  },
  {
   "cell_type": "code",
   "execution_count": 14,
   "id": "bd6b2123-da01-4c4c-9e72-56aa12d87333",
   "metadata": {},
   "outputs": [],
   "source": [
    "with open('repertorio.ttl', 'wb') as outfile:\n",
    "    g.serialize(destination=outfile, format='turtle')"
   ]
  },
  {
   "cell_type": "markdown",
   "id": "42f2997c-034b-44c9-9b12-9594c8d629c6",
   "metadata": {},
   "source": [
    "Done!"
   ]
  }
 ],
 "metadata": {
  "kernelspec": {
   "display_name": "Python 3",
   "language": "python",
   "name": "python3"
  },
  "language_info": {
   "codemirror_mode": {
    "name": "ipython",
    "version": 3
   },
   "file_extension": ".py",
   "mimetype": "text/x-python",
   "name": "python",
   "nbconvert_exporter": "python",
   "pygments_lexer": "ipython3",
   "version": "3.8.5"
  }
 },
 "nbformat": 4,
 "nbformat_minor": 5
}
