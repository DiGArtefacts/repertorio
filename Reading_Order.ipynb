{
 "cells": [
  {
   "cell_type": "markdown",
   "id": "cf66078c-ca0a-4168-b1c3-388fb52e3bc1",
   "metadata": {},
   "source": [
    "# Fix Transkribus Reading Order\n",
    "\n",
    "By default, Transkribus apparently puts regions in a column-wise reading order. In our test file, we have four text regions ordered like this:\n",
    "\n",
    "| (1) lo | (3) ro |\n",
    "|:------:|:------:|\n",
    "| (2) lu | (4) ru |\n",
    "\n",
    "The number denotes Transkribus’ assigned reading order, the text helps us identify the cells.\n",
    "\n",
    "Instead of this reading order, we want a row-wise reading order. Assigning this by hand is painful in Transkribus, so we ignore the reading order we get from Transkribus and instead fix it during processing."
   ]
  },
  {
   "cell_type": "code",
   "execution_count": 1,
   "id": "d5c1b832-0952-445d-969a-e3a259c44c60",
   "metadata": {},
   "outputs": [],
   "source": [
    "from pathlib import Path\n",
    "from collections import namedtuple\n",
    "from functools import cmp_to_key\n",
    "\n",
    "from lxml import etree"
   ]
  },
  {
   "cell_type": "code",
   "execution_count": 2,
   "id": "3baf62d3-c217-4cc0-a1f9-dff45123fa88",
   "metadata": {},
   "outputs": [],
   "source": [
    "PAGE_NS = 'http://schema.primaresearch.org/PAGE/gts/pagecontent/2013-07-15'\n",
    "PAGE = '{' + PAGE_NS + '}'\n",
    "NSMAP = {'pc': PAGE_NS}"
   ]
  },
  {
   "cell_type": "code",
   "execution_count": 3,
   "id": "f196b433-eb26-4a4c-b8cf-0e0a5ff8bd97",
   "metadata": {},
   "outputs": [],
   "source": [
    "PAGE_DIR = Path('.') / 'test_data'"
   ]
  },
  {
   "cell_type": "markdown",
   "id": "98d0d51e-d518-4c82-871a-ae9a6c980e1c",
   "metadata": {},
   "source": [
    "A small helper function to get the text content of a region."
   ]
  },
  {
   "cell_type": "code",
   "execution_count": 4,
   "id": "ad764586-6b11-4c2a-95a9-09154206529f",
   "metadata": {},
   "outputs": [],
   "source": [
    "def gather_lines(region_element):\n",
    "    return '\\n'.join([el.text for el in region_element.findall(f'{PAGE}TextLine/{PAGE}TextEquiv/{PAGE}Unicode')])"
   ]
  },
  {
   "cell_type": "markdown",
   "id": "a4a7780a-ae3c-46a4-8b90-9f115bc07fa5",
   "metadata": {},
   "source": [
    "The region coordinates are stored in the XML, we convert this to a list of points:\n",
    "\n",
    "`[[p1x, p1y], [p2x, p2y], ...]`"
   ]
  },
  {
   "cell_type": "code",
   "execution_count": 5,
   "id": "c3b7fe2d-9c25-4b63-928d-6e7bc7619f10",
   "metadata": {},
   "outputs": [],
   "source": [
    "def region_coords(region):\n",
    "    coords = region.find(f'{PAGE}Coords').get('points')\n",
    "    coords = [point.split(',') for point in coords.split(' ')]\n",
    "    return coords"
   ]
  },
  {
   "cell_type": "markdown",
   "id": "18ef03f7-370f-4d64-a0f1-e8bea437a620",
   "metadata": {},
   "source": [
    "For each region, we calculate a bounding box, which is the smallest rectangle that fits the entire shape."
   ]
  },
  {
   "cell_type": "code",
   "execution_count": 6,
   "id": "0f2ef28e-aeb0-4b5f-a519-f83a946b71ad",
   "metadata": {},
   "outputs": [],
   "source": [
    "BoundingBox = namedtuple('BoundingBox', ['minx', 'miny', 'maxx', 'maxy'])\n",
    "\n",
    "def bounding_box(coords):\n",
    "    x = [point[0] for point in coords]\n",
    "    y = [point[1] for point in coords]\n",
    "    return BoundingBox(min(x), min(y), max(x), max(y))"
   ]
  },
  {
   "cell_type": "markdown",
   "id": "99bfb74e-1e54-4f96-8691-332efe3be4c4",
   "metadata": {},
   "source": [
    "Our re-ordering of the regions is based on a simple heuristic:\n",
    "\n",
    "* If a region is below another region, it always comes after in reading order.\n",
    "* If a region is at the same height, the region that is further to the right comes after.\n",
    "\n",
    "Because regions might vary slightly in their coordinates, we don’t just compare on point (e.g., $X_{min},Y_{min}$), but take the full shape into account. This will not work for overlapping shapes, but we don’t have them in our case."
   ]
  },
  {
   "cell_type": "code",
   "execution_count": 7,
   "id": "829413de-d78d-4d37-b97b-4e25ae2ce671",
   "metadata": {},
   "outputs": [],
   "source": [
    "def region_cmp(region1, region2):\n",
    "    bb1 = bounding_box(region_coords(region1))\n",
    "    bb2 = bounding_box(region_coords(region2))\n",
    "    if bb1 == bb2:\n",
    "        return 0\n",
    "    if bb2.miny >= bb1.maxy:\n",
    "        return -1\n",
    "    if bb2.minx >= bb1.maxx:\n",
    "        return -1\n",
    "    return 1"
   ]
  },
  {
   "cell_type": "markdown",
   "id": "f0d13ef1-80c6-4b57-976d-510e10dcf025",
   "metadata": {},
   "source": [
    "Now we can use this comparison function to re-order the text regions."
   ]
  },
  {
   "cell_type": "code",
   "execution_count": 8,
   "id": "c0ef1bc8-0cdd-47ef-83aa-82870ffe88a9",
   "metadata": {},
   "outputs": [
    {
     "name": "stdout",
     "output_type": "stream",
     "text": [
      "original order:\n",
      "readingOrder {index:0;}\n",
      "lo\n",
      "readingOrder {index:1;}\n",
      "lu\n",
      "readingOrder {index:2;}\n",
      "ro\n",
      "readingOrder {index:3;}\n",
      "ru\n",
      "\n",
      "fixed order:\n",
      "readingOrder {index:0;}\n",
      "lo\n",
      "readingOrder {index:2;}\n",
      "ro\n",
      "readingOrder {index:1;}\n",
      "lu\n",
      "readingOrder {index:3;}\n",
      "ru\n"
     ]
    }
   ],
   "source": [
    "page_file = PAGE_DIR / 'reading_order.xml'\n",
    "tree = etree.parse(str(page_file))\n",
    "page = tree.find(f'{PAGE}Page')\n",
    "\n",
    "regions = list(page.iter(f'{PAGE}GraphicRegion', f'{PAGE}TextRegion'))\n",
    "\n",
    "print('original order:')\n",
    "\n",
    "for region in regions:\n",
    "    print(region.get('custom'))\n",
    "    print(gather_lines(region))\n",
    "    \n",
    "print()\n",
    "print('fixed order:')\n",
    "\n",
    "for region in sorted(regions, key=cmp_to_key(region_cmp)):\n",
    "    print(region.get('custom'))\n",
    "    print(gather_lines(region))"
   ]
  }
 ],
 "metadata": {
  "kernelspec": {
   "display_name": "Python 3",
   "language": "python",
   "name": "python3"
  },
  "language_info": {
   "codemirror_mode": {
    "name": "ipython",
    "version": 3
   },
   "file_extension": ".py",
   "mimetype": "text/x-python",
   "name": "python",
   "nbconvert_exporter": "python",
   "pygments_lexer": "ipython3",
   "version": "3.8.5"
  }
 },
 "nbformat": 4,
 "nbformat_minor": 5
}
