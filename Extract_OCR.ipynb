{
 "cells": [
  {
   "cell_type": "markdown",
   "id": "3d34763a-2715-48f4-aca0-b24a781957d6",
   "metadata": {},
   "source": [
    "# Extract vocabulary from PAGE XML"
   ]
  },
  {
   "cell_type": "markdown",
   "id": "8f8a0cbb-e7a2-43ad-bb72-287402dbda49",
   "metadata": {},
   "source": [
    "## Setup\n",
    "\n",
    "Define imports and basic variables."
   ]
  },
  {
   "cell_type": "code",
   "execution_count": 1,
   "id": "456abc78-0ef9-42dd-b087-3301ffce0592",
   "metadata": {},
   "outputs": [],
   "source": [
    "from pathlib import Path\n",
    "from urllib.request import urlopen\n",
    "import re\n",
    "\n",
    "import treelib\n",
    "import tinycss2\n",
    "from lxml import etree"
   ]
  },
  {
   "cell_type": "code",
   "execution_count": 2,
   "id": "b8ad7226-48ed-4919-8cec-4eb2f40a28b1",
   "metadata": {},
   "outputs": [],
   "source": [
    "PAGE_DIR = Path('.') / 'Repertorio_clean' / 'page'\n",
    "IMG_DIR = PAGE_DIR / '..'"
   ]
  },
  {
   "cell_type": "code",
   "execution_count": 3,
   "id": "4c20be76-4ae2-4f72-8549-1132067aa1b7",
   "metadata": {},
   "outputs": [],
   "source": [
    "PAGE_NS = 'http://schema.primaresearch.org/PAGE/gts/pagecontent/2013-07-15'\n",
    "PAGE = '{' + PAGE_NS + '}'\n",
    "NSMAP = {'pc': PAGE_NS}"
   ]
  },
  {
   "cell_type": "code",
   "execution_count": 4,
   "id": "d0df0e81-eb93-475c-862e-9effead9d05a",
   "metadata": {},
   "outputs": [
    {
     "data": {
      "text/plain": [
       "[PosixPath('Repertorio_clean/page/Repertorio-032.xml'),\n",
       " PosixPath('Repertorio_clean/page/Repertorio-033.xml'),\n",
       " PosixPath('Repertorio_clean/page/Repertorio-034.xml')]"
      ]
     },
     "execution_count": 4,
     "metadata": {},
     "output_type": "execute_result"
    }
   ],
   "source": [
    "PAGE_FILES = sorted(PAGE_DIR.glob('*.xml'))\n",
    "PAGE_FILES"
   ]
  },
  {
   "cell_type": "markdown",
   "id": "f6f8ab68-b02d-46d2-8d39-88924a62c4ba",
   "metadata": {},
   "source": [
    "## Definitions\n",
    "\n",
    "Since we’re looping through all the elements, we define a couple of functions to keep the main code readable."
   ]
  },
  {
   "cell_type": "markdown",
   "id": "bd6a95a5-e3c6-44f0-aa51-09a48435d335",
   "metadata": {},
   "source": [
    "This is a small helper function that makes dictionary values accessible as object properties. We need it later for printing the resulting vocabulary tree, since we collect data in dicts, but `treelib` expects objects for custom data."
   ]
  },
  {
   "cell_type": "code",
   "execution_count": 5,
   "id": "93211b5f-213f-4951-ad12-1ec683f57fbd",
   "metadata": {},
   "outputs": [],
   "source": [
    "class objectview(object):\n",
    "    \"\"\"Helper class for label formatting with treelib.\"\"\"\n",
    "    def __init__(self, d):\n",
    "        self.__dict__ = d"
   ]
  },
  {
   "cell_type": "markdown",
   "id": "093cb9d3-48b6-4fcd-b437-d932f071d531",
   "metadata": {},
   "source": [
    "### CSS parsing\n",
    "\n",
    "Transkribus uses something like CSS syntax in the PAGE XML `custom` attributes to store additional information that it cannot represent in PAGE XML. We need mainly to pieces:\n",
    "\n",
    "1. The reading order (which could actually be defined in PAGE XML, but for some reason Transkribus omits `GraphicRegion`s in the PAGE XML `ReadingOrder`, while it does add the reading order of graphic elements in their `custom` attribute). Also, we probably would not need this at all, as it appears that Transkribus exports elements in reading order, but I’m paranoid and hence better make sure.\n",
    "2. The structure labels we assigned in Transkribus.\n",
    "\n",
    "Unfortunately, I could not find an easy high-level CSS parsing library for Python, so this is more verbose as I hoped it would be, as I build a simple data dict from the CSS primitives `tinycss2` yields."
   ]
  },
  {
   "cell_type": "code",
   "execution_count": 6,
   "id": "8f050bdf-f34c-4d7f-b40f-344f29672899",
   "metadata": {
    "tags": []
   },
   "outputs": [],
   "source": [
    "def parse_custom(custom_str):\n",
    "    \"\"\"\n",
    "    Parse custom data in the pseudo-CSS syntax Transkribus uses.\n",
    "    \"\"\"\n",
    "    custom_dict = {}\n",
    "    rules = [el for el in tinycss2.parse_stylesheet(custom_str) if isinstance(el, tinycss2.ast.QualifiedRule)]\n",
    "    for rule in rules:\n",
    "        # Build data dict\n",
    "        data_dict = {}\n",
    "        key = None\n",
    "        value = None\n",
    "        new_statement = True\n",
    "        for token in rule.content:\n",
    "            if isinstance(token, tinycss2.ast.IdentToken) and new_statement:\n",
    "                if key:\n",
    "                    # add previous data\n",
    "                    data_dict[key] = value\n",
    "                key = token.value\n",
    "                new_statement = False\n",
    "            elif isinstance(token, tinycss2.ast.LiteralToken):\n",
    "                if token.value == ';':\n",
    "                    new_statement = True\n",
    "                continue\n",
    "            else:\n",
    "                value = token.value\n",
    "        if key:\n",
    "            # add final data\n",
    "            data_dict[key] = value\n",
    "        data_dict\n",
    "        # add to custom dict\n",
    "        key = ' ' .join([t.value for t in rule.prelude if isinstance(t, tinycss2.ast.IdentToken)])\n",
    "        custom_dict[key] = data_dict\n",
    "    return custom_dict"
   ]
  },
  {
   "cell_type": "markdown",
   "id": "9e0a6a23-b421-4720-a061-b840465b1c52",
   "metadata": {},
   "source": [
    "### OCR extraction"
   ]
  },
  {
   "cell_type": "markdown",
   "id": "5f65814a-6f99-4e33-8d8d-b30a682e1675",
   "metadata": {},
   "source": [
    "This simple helper function just collects the OCR’d text from the individual lines of a region."
   ]
  },
  {
   "cell_type": "code",
   "execution_count": 7,
   "id": "4e232cec-689a-43c9-8ff9-dbc7ce28ca1b",
   "metadata": {},
   "outputs": [],
   "source": [
    "def gather_lines(region_element):\n",
    "    return [el.text for el in region_element.findall(f'{PAGE}TextLine/{PAGE}TextEquiv/{PAGE}Unicode')]"
   ]
  },
  {
   "cell_type": "markdown",
   "id": "1bc22e9b-db61-47a7-9023-8a3ab29495a1",
   "metadata": {},
   "source": [
    "The Repertorio uses numbered section headings that span columns and contain both the Italian and English heading separated by `|`. This function parses `heading` regions and extracts information like heading number, level, and a label in each language."
   ]
  },
  {
   "cell_type": "code",
   "execution_count": 8,
   "id": "50efbcca-2759-49ac-9577-508f0d5e06b5",
   "metadata": {},
   "outputs": [],
   "source": [
    "def parse_headings(lines):\n",
    "    heading_re = re.compile(r'''\n",
    "                        (?P<number>\\d+(?:\\.\\d+)*)\n",
    "                        \\s*-\\s*\n",
    "                        (?P<it>\\w(?:[\\w\\s])+\\w)\n",
    "                        \\s*\\|\\s*\n",
    "                        (?P<en>\\w(?:[\\w\\s])+\\w)\n",
    "                        ''', re.VERBOSE)\n",
    "    headings = []\n",
    "    for line in lines:\n",
    "        res = heading_re.match(line)\n",
    "        assert res is not None\n",
    "        heading_data = res.groupdict().copy()\n",
    "        heading_data = {k: v.lower() for k, v in heading_data.items()}\n",
    "        heading_data['type'] = 'heading'\n",
    "        heading_data['level'] = len(heading_data['number'].split('.'))\n",
    "        heading_data\n",
    "        headings.append(heading_data)\n",
    "    return headings"
   ]
  },
  {
   "cell_type": "markdown",
   "id": "67d6f611-a75a-412f-8d6d-5c6986ca24fd",
   "metadata": {},
   "source": [
    "The concept entries are in separate columns for Italian and English and processed independently. Each concept can have three levels:\n",
    "\n",
    "1. The main concept\n",
    "2. (Optional) facets, like front and back side\n",
    "3. Parts\n",
    "\n",
    "This function parses an OCR block for a concept and yields its individual components. Since sometimes labels span more than a line, it merges lines that do not start with a number with the preciding line and re-analyzes them."
   ]
  },
  {
   "cell_type": "code",
   "execution_count": 9,
   "id": "66111254-dbf0-4aeb-8d8c-b94e7a655e19",
   "metadata": {},
   "outputs": [],
   "source": [
    "def parse_concept(lines):\n",
    "    concept_re = re.compile(r'''\n",
    "                        (?P<number>\\d+)\n",
    "                        \\s*-\\s*\n",
    "                        (?P<label>.*\\S)\n",
    "                        ''', re.VERBOSE)\n",
    "    facet_re = re.compile(r'''\n",
    "                        (?P<number>\\d+(?:\\.\\d+)*)\n",
    "                        \\s*:\\s*    # Separator\n",
    "                        \\[?        # Optional brackets\n",
    "                        (?P<label>.*?\\S)\n",
    "                        #(?:\\s+\\(=\\s*(?P<altLabel>.*\\S)\\))?  # Alt label does not work reliably, deactivate\n",
    "                        \\]?        # Optional brackets\n",
    "                        $''', re.VERBOSE)\n",
    "    part_re = re.compile(r'''\n",
    "                        (?P<number>\\w\\d?)\n",
    "                        :\\s*\n",
    "                        (?P<label>.*\\S)\n",
    "                        ''', re.VERBOSE)\n",
    "    entries = []\n",
    "    prev_line = ''\n",
    "    prev_re = concept_re\n",
    "    prev_type = 'concept'\n",
    "    line_data = {}\n",
    "    for line in lines:\n",
    "        for current_type, current_re in (('concept', concept_re),\n",
    "                                       ('facet', facet_re),\n",
    "                                       ('part', part_re)):\n",
    "            if (m := current_re.match(line)) is not None:\n",
    "                # Found new entry, save last one\n",
    "                if line_data:\n",
    "                    entries.append(line_data)\n",
    "                # Save current line and expression in case of continuation\n",
    "                prev_line = line\n",
    "                prev_re = current_re\n",
    "                prev_type = current_type\n",
    "                # Retrieve data\n",
    "                line_data = m.groupdict()\n",
    "                line_data['type'] = current_type\n",
    "                break\n",
    "        else:\n",
    "            prev_line = f'{prev_line} {line}'\n",
    "            line_data = prev_re.match(prev_line).groupdict()\n",
    "            line_data['type'] = prev_type\n",
    "    # Add final data\n",
    "    entries.append(line_data)\n",
    "    return entries"
   ]
  },
  {
   "cell_type": "markdown",
   "id": "aaaafe44-0e63-40ce-9cf5-69fb7039e3e9",
   "metadata": {},
   "source": [
    "We now put the previously defined functions together to extract all information from a page.\n",
    "\n",
    "Headings are quite easy to process, as they contain all information in one block.\n",
    "\n",
    "For the actual concept descriptions, we assume that we always have three consecutive elements:\n",
    "\n",
    "1. A `GraphicRegion` for the illustration,\n",
    "2. a `TextRegion` with structure type `column-italiano` for Italian labels, and\n",
    "3. a `TextRegion` with structure type `column-english` for English labels.\n",
    "\n",
    "*Note:* At this point, we do not process graphics yet, but we will evantually extract them from the page image here."
   ]
  },
  {
   "cell_type": "code",
   "execution_count": 10,
   "id": "931b707b-776d-489b-aebd-764ecba62739",
   "metadata": {},
   "outputs": [],
   "source": [
    "def extract_from_page(page_file):\n",
    "    tree = etree.parse(str(page_file))\n",
    "    page = tree.find(f'{PAGE}Page')\n",
    "    \n",
    "    last_index = -1\n",
    "    rows = []\n",
    "    row = {}\n",
    "    for region in page.iter(f'{PAGE}GraphicRegion', f'{PAGE}TextRegion'):\n",
    "        # Make sure elements are actually in reading order\n",
    "        custom_data = parse_custom(region.get('custom'))\n",
    "        index = custom_data['readingOrder']['index']\n",
    "        assert index > last_index, 'page elements not in reading order.'\n",
    "        last_index = index\n",
    "        # Determine how to process given element\n",
    "        if (region.tag == f'{PAGE}TextRegion'\n",
    "              and custom_data['structure']['type'] == 'heading'):\n",
    "            # Process heading\n",
    "            lines = gather_lines(region)\n",
    "            data = parse_headings(lines)\n",
    "            rows.extend(data)\n",
    "        elif region.tag == f'{PAGE}GraphicRegion':\n",
    "            # Process graphics\n",
    "            # TODO\n",
    "            row['depiction'] = None\n",
    "        elif (region.tag == f'{PAGE}TextRegion'\n",
    "              and custom_data['structure']['type'] == 'column-italiano'):\n",
    "            # Process data (Italian)\n",
    "            lines = gather_lines(region)\n",
    "            data = parse_concept(lines)\n",
    "            row['it'] = data\n",
    "        elif (region.tag == f'{PAGE}TextRegion'\n",
    "              and custom_data['structure']['type'] == 'column-english'):\n",
    "            # Process data (English)\n",
    "            lines = gather_lines(region)\n",
    "            data = parse_concept(lines)\n",
    "            row['en'] = data\n",
    "            # Row complete, save and reset\n",
    "            rows.append(row)\n",
    "            row = {}\n",
    "    return rows"
   ]
  },
  {
   "cell_type": "markdown",
   "id": "a246800e-87ec-4738-b38f-e7f8f4b6063d",
   "metadata": {},
   "source": [
    "Just to get an idea of the data structure so far, let’s test this with the first page file:"
   ]
  },
  {
   "cell_type": "code",
   "execution_count": 11,
   "id": "470ccb2d-09fa-40e2-aed2-95e243807198",
   "metadata": {},
   "outputs": [
    {
     "data": {
      "text/plain": [
       "[{'number': '1.3.2',\n",
       "  'it': 'la statua',\n",
       "  'en': 'statue',\n",
       "  'type': 'heading',\n",
       "  'level': 3},\n",
       " {'depiction': None,\n",
       "  'it': [{'number': '1',\n",
       "    'label': 'Statua [con sola veduta frontale]',\n",
       "    'type': 'concept'},\n",
       "   {'number': '1.1', 'label': 'faccia ant. (=fronte)', 'type': 'facet'},\n",
       "   {'number': '1.2', 'label': 'faccia post. (=retro)', 'type': 'facet'},\n",
       "   {'number': 'a', 'label': 'base', 'type': 'part'},\n",
       "   {'number': 'b', 'label': 'figura', 'type': 'part'},\n",
       "   {'number': 'c', 'label': 'faccia ant.', 'type': 'part'}],\n",
       "  'en': [{'number': '1',\n",
       "    'label': 'Statue [front-view statue)',\n",
       "    'type': 'concept'},\n",
       "   {'number': '1.1', 'label': 'front facel', 'type': 'facet'},\n",
       "   {'number': '1.2', 'label': 'back face', 'type': 'facet'},\n",
       "   {'number': 'a', 'label': 'base', 'type': 'part'},\n",
       "   {'number': 'b', 'label': 'figure', 'type': 'part'},\n",
       "   {'number': 'c', 'label': 'front face', 'type': 'part'}]},\n",
       " {'depiction': None,\n",
       "  'it': [{'number': '2', 'label': 'Statua a tutto tondo', 'type': 'concept'},\n",
       "   {'number': '2.1', 'label': 'faccia ant. (=fronte)', 'type': 'facet'},\n",
       "   {'number': '2.2', 'label': 'faccia post. (=retro)', 'type': 'facet'}],\n",
       "  'en': [{'number': '2', 'label': 'Statue in the round', 'type': 'concept'},\n",
       "   {'number': '2.1', 'label': 'front face', 'type': 'facet'},\n",
       "   {'number': '2.2', 'label': 'back facel', 'type': 'facet'}]},\n",
       " {'depiction': None,\n",
       "  'it': [{'number': '3',\n",
       "    'label': 'Statua a figure attergate',\n",
       "    'type': 'concept'}],\n",
       "  'en': [{'number': '3',\n",
       "    'label': 'Statue with back-to- back figures',\n",
       "    'type': 'concept'}]}]"
      ]
     },
     "execution_count": 11,
     "metadata": {},
     "output_type": "execute_result"
    }
   ],
   "source": [
    "extract_from_page(PAGE_FILES[0])"
   ]
  },
  {
   "cell_type": "markdown",
   "id": "8febfed5-fa34-4208-b12b-c5e3b9af7efa",
   "metadata": {},
   "source": [
    "Now we go through all PAGE XML files an collect their information."
   ]
  },
  {
   "cell_type": "code",
   "execution_count": 12,
   "id": "17020ab5-d992-47a8-80cb-971025f07012",
   "metadata": {},
   "outputs": [
    {
     "data": {
      "text/plain": [
       "6"
      ]
     },
     "execution_count": 12,
     "metadata": {},
     "output_type": "execute_result"
    }
   ],
   "source": [
    "rows = []\n",
    "for page_file in PAGE_FILES:\n",
    "    rows.extend(extract_from_page(page_file))\n",
    "len(rows)"
   ]
  },
  {
   "cell_type": "markdown",
   "id": "1d451b7d-7426-43fc-9fb5-ab763617c6ca",
   "metadata": {},
   "source": [
    "We now have the separate cells and the concepts within each cell as a flat list. We can now build an actualy concept tree using this information:\n",
    "\n",
    "* Main concepts are children of the last heading we encountered on the page,\n",
    "* The other terms in a block are children of the main concepts.\n",
    "\n",
    "Since we have Italian and English labels in separate cells, we need to merge the two lists and make sure they actually have matching labels. (Did I mention I am paranoid? And yes, I do like `assert` statements.)"
   ]
  },
  {
   "cell_type": "code",
   "execution_count": 13,
   "id": "67c2488d-ab28-40df-98a5-5b6a4f41ac88",
   "metadata": {},
   "outputs": [],
   "source": [
    "tree = treelib.Tree()\n",
    "lang = 'it'\n",
    "vocab = tree.create_node('DiGA', data = objectview({'display': 'DiGA', 'row': 0}))\n",
    "current_headings = {0: vocab}\n",
    "current_level = 0\n",
    "# Since treelib does not keep track of the order of nodes, and the concept numbering\n",
    "# re-starts on every page, we add the row number for sorting.\n",
    "for row_number, row in enumerate(rows, start=1):\n",
    "    if 'type' in row and row['type'] == 'heading':\n",
    "        level = row['level']\n",
    "        row['display'] = f\"({row['number']}) {row['it']} | {row['en']}\"\n",
    "        row['row'] = row_number\n",
    "        parent = current_headings.get(level - 1, vocab)\n",
    "        node = tree.create_node(row[lang], parent = parent, data = objectview(row))\n",
    "        current_headings[level] = node\n",
    "        current_level = level\n",
    "    else:\n",
    "        # We have separate structures for both languages, merge these first.\n",
    "        for entry_it, entry_en in zip(row['it'], row['en']):\n",
    "            assert entry_it['number'] == entry_en['number'], f'entry numbers do not match: {entry_it}, {entry_en}.'\n",
    "            # Take Italian entry as template\n",
    "            entry = entry_it.copy()\n",
    "            entry['it'] = entry.pop('label')\n",
    "            entry['en'] = entry_en['label']\n",
    "            entry['display'] = f\"({entry['number']}) {entry['it']} | {entry['en']}\"\n",
    "            entry['row'] = row_number\n",
    "            if entry['type'] == 'concept':\n",
    "                parent = current_headings[current_level]\n",
    "                concept = tree.create_node(entry[lang], parent = parent, data = objectview(entry))\n",
    "            else:\n",
    "                tree.create_node(entry[lang], parent = concept, data = objectview(entry))"
   ]
  },
  {
   "cell_type": "markdown",
   "id": "62958e35-dbd6-4fc7-b877-1c9f62005f7a",
   "metadata": {},
   "source": [
    "Eventually we can print the tree structure we extracted."
   ]
  },
  {
   "cell_type": "code",
   "execution_count": 14,
   "id": "a8b4f061-25c1-4fbf-b239-55058e6955ca",
   "metadata": {},
   "outputs": [
    {
     "name": "stdout",
     "output_type": "stream",
     "text": [
      "DiGA\n",
      "└── (1.3.2) la statua | statue\n",
      "    ├── (1) Statua [con sola veduta frontale] | Statue [front-view statue)\n",
      "    │   ├── (1.1) faccia ant. (=fronte) | front facel\n",
      "    │   ├── (1.2) faccia post. (=retro) | back face\n",
      "    │   ├── (a) base | base\n",
      "    │   ├── (b) figura | figure\n",
      "    │   └── (c) faccia ant. | front face\n",
      "    ├── (2) Statua a tutto tondo | Statue in the round\n",
      "    │   ├── (2.1) faccia ant. (=fronte) | front face\n",
      "    │   └── (2.2) faccia post. (=retro) | back facel\n",
      "    ├── (3) Statua a figure attergate | Statue with back-to- back figures\n",
      "    ├── (1) Statua a stele | Stele statue\n",
      "    │   ├── (1.1) faccia ant. (=fronte) | front face\n",
      "    │   ├── (1.2) faccia post. (=retro) | back face\n",
      "    │   ├── (1.3) faccia dx./sn. (=profilo) | right/left face (=profile)\n",
      "    │   ├── (a) statua | statue\n",
      "    │   ├── (b) base | base\n",
      "    │   ├── (c) figura | figure\n",
      "    │   ├── (d) faccia ant. (=fronte) | front face\n",
      "    │   ├── (e) faccia post. (=retro) | back face\n",
      "    │   ├── (f) pilastro dorsale | back pillar\n",
      "    │   └── (g) faccia dx./sn. (=profilo) | right/left face (=profile)\n",
      "    └── (1) Stele figurata | Figured stele\n",
      "        ├── (1.1) faccia ant. (=fronte) | front face\n",
      "        ├── (1.2) faccia post. (=-retro) | back face\n",
      "        ├── (1.3) faccia dx./sn. (=profilo) | right/left face (=profile)\n",
      "        ├── (a) stele | stele\n",
      "        ├── (b) parte figurata | figured area\n",
      "        ├── (c) piede | base\n",
      "        ├── (d) figura | figure\n",
      "        ├── (e) faccia ant. (=fronte) | front face\n",
      "        ├── (f) faccia inf. | lower face\n",
      "        ├── (g) faccia sup. | upper face\n",
      "        ├── (h) terminazione sup. curvilinea/rettilinea | curved/straight upper edge\n",
      "        ├── (i) piano di fondo | rear surface\n",
      "        ├── (l) piano (=superficie) della faccia post. (=retro) | surface of the back\n",
      "        ├── (m) lastra di fondo | rear slab\n",
      "        ├── (m1) spessore della lastra di fondo | rear slab thickness\n",
      "        └── (n) aggetto della figura | projection of figure\n",
      "\n"
     ]
    }
   ],
   "source": [
    "tree.show(key = lambda node: (node.data.row, node.data.number), data_property = 'display')"
   ]
  },
  {
   "cell_type": "markdown",
   "id": "04feba67-8cd7-4e89-9df0-2386a4ba2c02",
   "metadata": {},
   "source": [
    "Done!"
   ]
  }
 ],
 "metadata": {
  "kernelspec": {
   "display_name": "Python 3",
   "language": "python",
   "name": "python3"
  },
  "language_info": {
   "codemirror_mode": {
    "name": "ipython",
    "version": 3
   },
   "file_extension": ".py",
   "mimetype": "text/x-python",
   "name": "python",
   "nbconvert_exporter": "python",
   "pygments_lexer": "ipython3",
   "version": "3.8.5"
  },
  "toc-autonumbering": false,
  "toc-showcode": false,
  "toc-showmarkdowntxt": false
 },
 "nbformat": 4,
 "nbformat_minor": 5
}
